{
 "cells": [
  {
   "cell_type": "markdown",
   "metadata": {},
   "source": [
    "# Q8 Analyze HRV\n",
    "\n",
    "Dig into the Rhinovirus results in the Q8 sequencing run.\n",
    "\n",
    "In prior RespiCoV analyses I've relied on hits caching to enable fast analysis. But in Q8 I have a ton more data (28 Gb uncompressed, 22M reads) using a variety of different primers, as well as a lot of samples using only Rhinovirus primers. So rather than use hits caching, let's just split out the entire set of Rhinovirus hits and operate on that. \n",
    "\n",
    "This looks over all Q8a/b sequencing reads for the HRV 5' UTR region targetted by the RespiCoV Enterovirus primer pair. Most experiments actually used the HRVKa5 primer set, but they different from ENT rc only in the reverse primer extending 2 bases further beyond the amplicon, so we can just ignore that.\n",
    "\n",
    "Note that these samples also include a full-genome HRV sequence which we want to exclude.\n",
    "Reads were basecalled and demuxed with Dorado 0.7.3, using the hac@v5.0.0 model and with barcodes and adapters trimmed.\n",
    "Reads have not yet been filtered for quality, we do that here."
   ]
  },
  {
   "cell_type": "markdown",
   "metadata": {},
   "source": [
    "## Setup"
   ]
  },
  {
   "cell_type": "code",
   "execution_count": 1,
   "metadata": {},
   "outputs": [
    {
     "name": "stdout",
     "output_type": "stream",
     "text": [
      "BioPython version: 1.80\n",
      "Rhinovirus primers: ['CAAGCACTTCTGTTTCCCCGG', 'AACACGGACACCCAAAGTAGT']\n"
     ]
    }
   ],
   "source": [
    "from Bio import Align\n",
    "import matplotlib_inline.backend_inline\n",
    "import os\n",
    "import pandas as pd\n",
    "import RCUtils\n",
    "import random\n",
    "import numpy as np\n",
    "import Bio\n",
    "\n",
    "%load_ext autoreload\n",
    "%autoreload 1\n",
    "%aimport RCUtils\n",
    "\n",
    "# Be deterministic\n",
    "random.seed(42)\n",
    "\n",
    "fastQDir = \"../Q8/reads-hac/\"\n",
    "hrvDir = \"../Q8/reads-hac-hrv/\"\n",
    "\n",
    "pd.options.display.max_rows = 50\n",
    "pd.options.display.min_rows = 25\n",
    "\n",
    "print(\"BioPython version:\", Bio.__version__)\n",
    "\n",
    "# Get the Rhinovirus primer pair.\n",
    "rcPrimers = RCUtils.readPrimers(\"RespiCovPrimers.fasta\")\n",
    "hrvPrimers = [p for p in rcPrimers if p.description == \"Rhinovirus/Enterovirus 1\" or p.description == \"Rhinovirus/Enterovirus 3\"]\n",
    "print(\"Rhinovirus primers:\", [str(p.seq) for p in hrvPrimers])\n"
   ]
  },
  {
   "cell_type": "markdown",
   "metadata": {},
   "source": [
    "## Utilities"
   ]
  },
  {
   "cell_type": "code",
   "execution_count": 17,
   "metadata": {},
   "outputs": [],
   "source": [
    "import math\n",
    "\n",
    "# Get the hits across all files but allow a limit on the number of reads per file.\n",
    "# Many files have over a million reads.\n",
    "def getAllPrimerHits(maxReadsPerFile = 0, progress = False, skipReads = 0):\n",
    "    for file in sorted(filter(lambda f: f.endswith(\".fastq\"), os.listdir(fastQDir))):\n",
    "        for (read, hit) in getPrimerHits(file, maxReadsPerFile, progress, skipReads):\n",
    "            yield (file, read, hit)\n",
    "\n",
    "# Get primer hits for a single file\n",
    "def getPrimerHits(file, maxReadsPerFile = 0, progress = False, skipReads = 0, matchThreshold = RCUtils.MATCH_THRESHOLD):\n",
    "    fastQPath = os.path.join(fastQDir, file)\n",
    "    if progress:\n",
    "        print(\"Processing \", os.path.basename(fastQPath), end=\"\")\n",
    "    reads = 0\n",
    "    hitReads = 0\n",
    "    for read in RCUtils.readFastQ(fastQPath):\n",
    "        reads += 1\n",
    "        if reads <= skipReads:\n",
    "            continue\n",
    "        hits = RCUtils.computePrimerHits(read, hrvPrimers, matchThreshold=matchThreshold)\n",
    "        if hits:\n",
    "            hitReads += 1\n",
    "            yield (read, hits)\n",
    "        if maxReadsPerFile and reads >= skipReads + maxReadsPerFile:\n",
    "            break\n",
    "    if progress:\n",
    "        totalReads = max(reads - skipReads, 0)\n",
    "        print(\" %d reads, %d with hits (%d%%)\" % (totalReads, hitReads, hitReads * 100 / totalReads if totalReads else 0))\n",
    "\n",
    "# Compute an overall probability of error as a phred score\n",
    "# This tends to higly penalize a single error, so may not be as useful as the mean phred score\n",
    "def overallPhredScore(phred_scores):\n",
    "    # Phred scores represent the probability of error, eg. with 10 being 1 in 10, 20 being 1 in 100, etc.\n",
    "    total_error_prob = 1 - math.prod(1 - 10 ** (-q / 10) for q in phred_scores)\n",
    "    if total_error_prob == 0:\n",
    "        return float('inf')\n",
    "    return -10 * math.log10(total_error_prob)\n",
    "\n",
    "# Print an alignment with an additional track indicating the quality scores of the read\n",
    "def printAlignmentWithQuality(alignment, read):\n",
    "    assert(alignment.target is read.seq)\n",
    "    quality_scores = read.letter_annotations[\"phred_quality\"]\n",
    "    \n",
    "    # Initialize strings for the aligned target, query, alignment string, and query quality scores\n",
    "    aligned_target = \"\"\n",
    "    aligned_query = \"\"\n",
    "    alignment_string = \"\"\n",
    "    aligned_target_quality = \"\"\n",
    "    \n",
    "    # Use indices to determine where gaps are and construct the alignment, target, query, and quality strings\n",
    "\n",
    "    for t_index, q_index in zip(*alignment.indices):\n",
    "        aligned_target += alignment.target[t_index] if t_index != -1 else \"-\"\n",
    "        aligned_query += alignment.query[q_index] if q_index != -1 else \"-\"\n",
    "        alignment_string += \"|\" if t_index != -1 and q_index != -1 and alignment.target[t_index] == alignment.query[q_index] else \".\"\n",
    "        if t_index == -1:\n",
    "            aligned_target_quality += \"-\"\n",
    "        else:\n",
    "            ns = quality_scores[t_index] // 4\n",
    "            aligned_target_quality += str(ns) if ns < 10 else \"9\"\n",
    "\n",
    "    tstart = alignment.indices[0,0]\n",
    "    tend = alignment.indices[0,-1]\n",
    "    print(\"target quality     \", aligned_target_quality, \"  avg:\", int(np.mean(quality_scores[tstart:tend])))\n",
    "    print(\"target             \", aligned_target)\n",
    "    print(\"                   \", alignment_string)\n",
    "    print(\"query              \", aligned_query)\n",
    "    print(\"\")\n",
    "\n",
    "# Print the hits for a read\n",
    "def printHits(read, hits):\n",
    "    print (\"%s %d\" % (read.id, len(read)))\n",
    "    for hit in hits:\n",
    "        print(\"   %.2f %i-%i: %s (%d%s)\" % (hit.mr, hit.start, hit.end, hit.primer.description, len(hit.primer), \" rev\" if hit.rev else \"\"))\n",
    "        aligner = Align.PairwiseAligner(mode='local', match_score=1, mismatch_score=0, gap_score=-1)\n",
    "        alignment = aligner.align(read.seq, hit.primer.rcSeq if hit.rev else hit.primer.seq)[0]\n",
    "        RCUtils.extendAlignment(alignment)\n",
    "        printAlignmentWithQuality(alignment, read)"
   ]
  },
  {
   "cell_type": "markdown",
   "metadata": {},
   "source": [
    "## Get an idea for the distribution of reads with hits\n",
    "\n",
    "Barcodes 1 to 7 are our main HRV samples and as expected have the bulk of the hits.\n",
    "Barcodes 19-21 are RespiCoV and so are expected to have some HRV.\n",
    "Barcode 18 is the HRV-C1 full genome. Why don't we see hits here? Shouldn't I have to filter out these ~1200bp HRV hits?\n",
    "A few of the other hits occur in samples using other RespiCov primers but not HRV, why?"
   ]
  },
  {
   "cell_type": "code",
   "execution_count": 18,
   "metadata": {},
   "outputs": [
    {
     "name": "stdout",
     "output_type": "stream",
     "text": [
      "Processing  Q8-hac_barcode01.fastq 1000 reads, 946 with hits (94%)\n",
      "Processing  Q8-hac_barcode02.fastq 1000 reads, 888 with hits (88%)\n",
      "Processing  Q8-hac_barcode03.fastq 1000 reads, 947 with hits (94%)\n",
      "Processing  Q8-hac_barcode04.fastq 1000 reads, 875 with hits (87%)\n",
      "Processing  Q8-hac_barcode05.fastq 1000 reads, 918 with hits (91%)\n",
      "Processing  Q8-hac_barcode06.fastq 1000 reads, 916 with hits (91%)\n",
      "Processing  Q8-hac_barcode07.fastq 1000 reads, 970 with hits (97%)\n",
      "Processing  Q8-hac_barcode08.fastq 1000 reads, 0 with hits (0%)\n",
      "Processing  Q8-hac_barcode09.fastq 1000 reads, 0 with hits (0%)\n",
      "Processing  Q8-hac_barcode10.fastq 1000 reads, 0 with hits (0%)\n",
      "Processing  Q8-hac_barcode11.fastq 1000 reads, 9 with hits (0%)\n",
      "Processing  Q8-hac_barcode12.fastq 1000 reads, 383 with hits (38%)\n",
      "Processing  Q8-hac_barcode13.fastq 1000 reads, 5 with hits (0%)\n",
      "Processing  Q8-hac_barcode14.fastq 1000 reads, 121 with hits (12%)\n",
      "Processing  Q8-hac_barcode15.fastq 1000 reads, 1 with hits (0%)\n",
      "Processing  Q8-hac_barcode16.fastq 1000 reads, 69 with hits (6%)\n",
      "Processing  Q8-hac_barcode17.fastq 1000 reads, 9 with hits (0%)\n",
      "Processing  Q8-hac_barcode18.fastq 1000 reads, 6 with hits (0%)\n",
      "Processing  Q8-hac_barcode19.fastq 1000 reads, 4 with hits (0%)\n",
      "Processing  Q8-hac_barcode20.fastq 1000 reads, 100 with hits (10%)\n",
      "Processing  Q8-hac_barcode21.fastq 1000 reads, 75 with hits (7%)\n",
      "Processing  Q8-hac_unclassified.fastq 1000 reads, 12 with hits (1%)\n",
      "Total hits: 17059\n"
     ]
    }
   ],
   "source": [
    "hitCount = 0\n",
    "for (inFile, read, hits) in getAllPrimerHits(maxReadsPerFile=1000, progress=True):\n",
    "    hitCount += len(hits)\n",
    "\n",
    "print(\"Total hits:\", hitCount)"
   ]
  },
  {
   "cell_type": "markdown",
   "metadata": {},
   "source": [
    "## Look at the first few hits in detail just to sanity check\n",
    "\n",
    "These look good. Primer pair hits at the exact start and end of the trimmed read.\n",
    "Mismatches seem to be in areas of low basecall quality."
   ]
  },
  {
   "cell_type": "code",
   "execution_count": 4,
   "metadata": {},
   "outputs": [
    {
     "name": "stdout",
     "output_type": "stream",
     "text": [
      "bbe4b3b4-92cc-4ded-8674-52697668e304 387\n",
      "   0.95 0-22: Rhinovirus/Enterovirus 3 (21)\n",
      "target quality      7766666667777788882112   avg: 26\n",
      "target              AACACGGACACCCAAAGTCAGT\n",
      "                    ||||||||||||||||||.|||\n",
      "query               AACACGGACACCCAAAGT-AGT\n",
      "\n",
      "   0.90 368-387: Rhinovirus/Enterovirus 1 (21 rev)\n",
      "target quality      6656676777778866666--   avg: 27\n",
      "target              CCGGGGAAACAGAAGTGCT--\n",
      "                    |||||||||||||||||||..\n",
      "query               CCGGGGAAACAGAAGTGCTTG\n",
      "\n",
      "21b616e1-0b07-4359-bbe1-b46ea58bbffa 389\n",
      "   1.00 0-21: Rhinovirus/Enterovirus 3 (21)\n",
      "target quality      667444467888899998776   avg: 29\n",
      "target              AACACGGACACCCAAAGTAGT\n",
      "                    |||||||||||||||||||||\n",
      "query               AACACGGACACCCAAAGTAGT\n",
      "\n",
      "   1.00 367-388: Rhinovirus/Enterovirus 1 (21 rev)\n",
      "target quality      888778899988998555999   avg: 33\n",
      "target              CCGGGGAAACAGAAGTGCTTG\n",
      "                    |||||||||||||||||||||\n",
      "query               CCGGGGAAACAGAAGTGCTTG\n",
      "\n",
      "6a4010fc-051b-4b03-bed5-2936c168d7de 380\n",
      "   1.00 358-379: Rhinovirus/Enterovirus 3 (21 rev)\n",
      "target quality      667888897878888866556   avg: 29\n",
      "target              ACTACTTTGGGTGTCCGTGTT\n",
      "                    |||||||||||||||||||||\n",
      "query               ACTACTTTGGGTGTCCGTGTT\n",
      "\n",
      "ef3220fc-27f3-48aa-b12c-fcf548a046be 392\n",
      "   1.00 0-21: Rhinovirus/Enterovirus 3 (21)\n",
      "target quality      988887777888999999222   avg: 32\n",
      "target              AACACGGACACCCAAAGTAGT\n",
      "                    |||||||||||||||||||||\n",
      "query               AACACGGACACCCAAAGTAGT\n",
      "\n",
      "   0.95 369-391: Rhinovirus/Enterovirus 1 (21 rev)\n",
      "target quality      8988999988322322111222   avg: 21\n",
      "target              CCGGGGAAACAGAAGATGCTTG\n",
      "                    |||||||||||||||.||||||\n",
      "query               CCGGGGAAACAGAAG-TGCTTG\n",
      "\n",
      "91a026c7-6bd2-4dc1-b8d8-020a0a7d18e0 393\n",
      "   1.00 0-21: Rhinovirus/Enterovirus 1 (21)\n",
      "target quality      117788888998776676622   avg: 27\n",
      "target              CAAGCACTTCTGTTTCCCCGG\n",
      "                    |||||||||||||||||||||\n",
      "query               CAAGCACTTCTGTTTCCCCGG\n",
      "\n"
     ]
    }
   ],
   "source": [
    "from Bio import Align\n",
    "\n",
    "for (read, hits) in getPrimerHits(\"Q8-hac_barcode01.fastq.gz\", maxReadsPerFile=5):\n",
    "    printHits(read, hits)\n"
   ]
  },
  {
   "cell_type": "markdown",
   "metadata": {},
   "source": [
    "## Match score distributions\n",
    "\n",
    "We're using a default match threshold of 0.8. Make sure that still looks reasonable by comparing the distribution beyond that.\n",
    "This looks only at the start of one barcode group, it will vary later in the read sequence. This (along with the examples above) also confirms that we'd be throwing away a lot of good matches if we required an exact match."
   ]
  },
  {
   "cell_type": "code",
   "execution_count": 5,
   "metadata": {},
   "outputs": [
    {
     "name": "stdout",
     "output_type": "stream",
     "text": [
      "9358 of 19726 (47%) of primer hits are a perfect match\n"
     ]
    },
    {
     "data": {
      "image/png": "[encoded data removed]",
      "text/plain": [
       "<Figure size 800x300 with 1 Axes>"
      ]
     },
     "metadata": {},
     "output_type": "display_data"
    }
   ],
   "source": [
    "mrs = []\n",
    "perfect = 0\n",
    "for (read, hits) in getPrimerHits(\"Q8-hac_barcode01.fastq.gz\", maxReadsPerFile=10000, matchThreshold = 0.65):\n",
    "    for hit in hits:\n",
    "        mrs.append(hit.mr)\n",
    "        if hit.mr == 1.0:\n",
    "            perfect += 1\n",
    "\n",
    "print(\"%d of %d (%d%%) of primer hits are a perfect match\" % (perfect, len(mrs), 100*perfect/len(mrs)))\n",
    "pd.DataFrame({'Score': mrs}).hist(figsize=(8,3), bins=8, grid=False);"
   ]
  },
  {
   "cell_type": "markdown",
   "metadata": {},
   "source": [
    "## Distribution of read lengths with hits.\n",
    "\n",
    "HRV amplicons are expected to be about 390 bp, and indeed the vast majority are."
   ]
  },
  {
   "cell_type": "code",
   "execution_count": 6,
   "metadata": {},
   "outputs": [
    {
     "name": "stdout",
     "output_type": "stream",
     "text": [
      "Reads with at least 2 hits: 6850, length 340-440: 6760 (98%)\n"
     ]
    },
    {
     "data": {
      "image/png": "[encoded data removed]",
      "text/plain": [
       "<Figure size 800x300 with 1 Axes>"
      ]
     },
     "metadata": {},
     "output_type": "display_data"
    },
    {
     "data": {
      "image/png": "[encoded data removed]",
      "text/plain": [
       "<Figure size 800x300 with 1 Axes>"
      ]
     },
     "metadata": {},
     "output_type": "display_data"
    }
   ],
   "source": [
    "import matplotlib.pyplot as plt\n",
    "\n",
    "EXPECTED_LENGTH = 390\n",
    "LENGTH_TOLERANCE = 50\n",
    "\n",
    "def plotLengths(fastq):\n",
    "    lens = []\n",
    "    reads = 0\n",
    "    within50 = 0\n",
    "    for (read, hits) in getPrimerHits(fastq, maxReadsPerFile=10000):\n",
    "        if len(hits) < 2:\n",
    "            continue\n",
    "        reads += 1\n",
    "        if abs(len(read) - EXPECTED_LENGTH) < LENGTH_TOLERANCE:\n",
    "            within50 += 1\n",
    "        lens.append(len(read))\n",
    "\n",
    "    print(\"Reads with at least 2 hits: %d, length 340-440: %d (%d%%)\" % (reads, within50, 100*within50/reads))\n",
    "\n",
    "    pd.DataFrame({'Length': lens}).hist(figsize=(8,3), bins=30, grid=False, log=True)\n",
    "    plt.show()\n",
    "\n",
    "    pd.DataFrame({'Length': lens}).hist(figsize=(8,3), bins=30, grid=False, range=(0, 1000))\n",
    "    plt.show()\n",
    "\n",
    "plotLengths(\"Q8-hac_barcode01.fastq.gz\")"
   ]
  },
  {
   "cell_type": "markdown",
   "metadata": {},
   "source": [
    "Check one of the mess full RespiCoV samples too. It's quite different, but that's probably due to primer-dimers and other artifacts. "
   ]
  },
  {
   "cell_type": "code",
   "execution_count": 7,
   "metadata": {},
   "outputs": [
    {
     "name": "stdout",
     "output_type": "stream",
     "text": [
      "Reads with at least 2 hits: 109, length 340-440: 6 (5%)\n"
     ]
    },
    {
     "data": {
      "image/png": "[encoded data removed]",
      "text/plain": [
       "<Figure size 800x300 with 1 Axes>"
      ]
     },
     "metadata": {},
     "output_type": "display_data"
    },
    {
     "data": {
      "image/png": "[encoded data removed]",
      "text/plain": [
       "<Figure size 800x300 with 1 Axes>"
      ]
     },
     "metadata": {},
     "output_type": "display_data"
    }
   ],
   "source": [
    "plotLengths(\"Q8-hac_barcode20.fastq.gz\")"
   ]
  },
  {
   "cell_type": "markdown",
   "metadata": {},
   "source": [
    "## Distribution of hit locations\n",
    "\n",
    "Perhaps we could make things a lot faster by looking only at the start and end of the read for hits? With dorado having done read splitting and adapter trimming for us, perhaps all legit primers will really be at the start and end of reads?"
   ]
  },
  {
   "cell_type": "code",
   "execution_count": 8,
   "metadata": {},
   "outputs": [
    {
     "name": "stdout",
     "output_type": "stream",
     "text": [
      "Hits: 13524, exact: 6842 (50%), within 10: 13423 (99%)\n"
     ]
    },
    {
     "data": {
      "image/png": "[encoded data removed]",
      "text/plain": [
       "<Figure size 800x300 with 1 Axes>"
      ]
     },
     "metadata": {},
     "output_type": "display_data"
    },
    {
     "data": {
      "image/png": "[encoded data removed]",
      "text/plain": [
       "<Figure size 800x300 with 1 Axes>"
      ]
     },
     "metadata": {},
     "output_type": "display_data"
    }
   ],
   "source": [
    "MAX_PRIMER_OFFSET = 10\n",
    "\n",
    "def plotHitOffsets(fastq):\n",
    "    offsets = []\n",
    "    hitCount = 0\n",
    "    exactHit = 0\n",
    "    within10 = 0\n",
    "    for (read, hits) in getPrimerHits(fastq, maxReadsPerFile=10000):\n",
    "        if len(hits) < 2:\n",
    "            continue\n",
    "        if abs(len(read) - EXPECTED_LENGTH) > LENGTH_TOLERANCE:\n",
    "            continue\n",
    "        for hit in hits:\n",
    "            hitCount += 1\n",
    "            so = hit.start\n",
    "            eo = len(read) - hit.end\n",
    "            if min(so, eo) == 0:\n",
    "                exactHit += 1\n",
    "            if min(so, eo) <= MAX_PRIMER_OFFSET:\n",
    "                within10 += 1\n",
    "            if (so < eo):\n",
    "                offsets.append(so)\n",
    "            else:\n",
    "                offsets.append(-eo)\n",
    "\n",
    "    print(\"Hits: %d, exact: %d (%d%%), within 10: %d (%d%%)\" % (hitCount, exactHit, 100*exactHit/hitCount, within10, 100*within10/hitCount))\n",
    "    df = pd.DataFrame({'Primer read offset': offsets})\n",
    "    ax = df.hist(figsize=(8,3), bins=30, grid=False, log=True)\n",
    "    plt.show()\n",
    "\n",
    "    ax = df.hist(figsize=(8,3), bins=30, grid=False, log=True, range=(-20,20))\n",
    "    plt.show()\n",
    "\n",
    "plotHitOffsets(\"Q8-hac_barcode01.fastq.gz\")"
   ]
  },
  {
   "cell_type": "markdown",
   "metadata": {},
   "source": [
    "And again on RespiCov"
   ]
  },
  {
   "cell_type": "code",
   "execution_count": 9,
   "metadata": {},
   "outputs": [
    {
     "name": "stdout",
     "output_type": "stream",
     "text": [
      "Hits: 12, exact: 6 (50%), within 10: 9 (75%)\n"
     ]
    },
    {
     "data": {
      "image/png": "[encoded data removed]",
      "text/plain": [
       "<Figure size 800x300 with 1 Axes>"
      ]
     },
     "metadata": {},
     "output_type": "display_data"
    },
    {
     "data": {
      "image/png": "[encoded data removed]",
      "text/plain": [
       "<Figure size 800x300 with 1 Axes>"
      ]
     },
     "metadata": {},
     "output_type": "display_data"
    }
   ],
   "source": [
    "plotHitOffsets(\"Q8-hac_barcode20.fastq.gz\")"
   ]
  },
  {
   "cell_type": "markdown",
   "metadata": {},
   "source": [
    "## Distribution of read qualities\n",
    "\n",
    "We need a threshold for filtering out low-quality reads. Let's take a look at a sample distribution."
   ]
  },
  {
   "cell_type": "code",
   "execution_count": 10,
   "metadata": {},
   "outputs": [
    {
     "name": "stdout",
     "output_type": "stream",
     "text": [
      "Reads: 6762, qual p5: 13, qual reads: 6650 (98%)\n"
     ]
    },
    {
     "data": {
      "image/png": "[encoded data removed]",
      "text/plain": [
       "<Figure size 800x300 with 1 Axes>"
      ]
     },
     "metadata": {},
     "output_type": "display_data"
    }
   ],
   "source": [
    "avgQuals = []\n",
    "reads = 0\n",
    "qualReads = 0\n",
    "MIN_QUAL = 12\n",
    "\n",
    "for (read, hits) in getPrimerHits(\"Q8-hac_barcode01.fastq.gz\", maxReadsPerFile=10000):\n",
    "    if len(hits) < 2:\n",
    "        continue\n",
    "    if abs(len(read) - EXPECTED_LENGTH) > LENGTH_TOLERANCE:\n",
    "        continue\n",
    "    reads += 1\n",
    "    aq = np.mean(read.letter_annotations[\"phred_quality\"])\n",
    "    avgQuals.append(aq)\n",
    "    if (aq >= MIN_QUAL):\n",
    "        qualReads += 1\n",
    "\n",
    "print (\"Reads: %d, qual p5: %d, qual reads: %d (%d%%)\" % (reads, np.percentile(avgQuals, 5), qualReads, 100*qualReads/reads))\n",
    "df = pd.DataFrame({'Average read quality': avgQuals})\n",
    "ax = df.hist(figsize=(8,3), bins=30, grid=False, log=True)\n",
    "plt.show()\n"
   ]
  },
  {
   "cell_type": "markdown",
   "metadata": {},
   "source": [
    "# Make cached HRV read files with optimized hit finding\n",
    "\n",
    "Based on the above we can search just for primers at the start and end of reads between 340 and 440 bases long, and with reads of at least Q12, and save them to their own files."
   ]
  },
  {
   "cell_type": "code",
   "execution_count": 11,
   "metadata": {},
   "outputs": [
    {
     "name": "stdout",
     "output_type": "stream",
     "text": [
      "Processing  Q8-hac_barcode01.fastq.gz..................................................................................................................................\n",
      "Multiple hits!  02e2a0b6-83ac-447d-952c-6d9d20b00c38\n",
      ".........................\n",
      "  1557206 reads, 1047415 with hits (67%). 289.77s\n",
      "Processing  Q8-hac_barcode02.fastq.gz.............................\n",
      "  291720 reads, 210747 with hits (72%). 46.01s\n",
      "Processing  Q8-hac_barcode03.fastq.gz...........................................................................\n",
      "  750296 reads, 566374 with hits (75%). 126.81s\n",
      "Processing  Q8-hac_barcode04.fastq.gz..............................\n",
      "  308260 reads, 220841 with hits (71%). 48.28s\n",
      "Processing  Q8-hac_barcode05.fastq.gz.........................................\n",
      "  413375 reads, 301359 with hits (72%). 68.25s\n",
      "Processing  Q8-hac_barcode06.fastq.gz..................................................\n",
      "  506570 reads, 381847 with hits (75%). 83.55s\n",
      "Processing  Q8-hac_barcode07.fastq.gz..............................................................................................................................................................................\n",
      "  1742588 reads, 491149 with hits (28%). 129.02s\n",
      "Processing  Q8-hac_barcode08.fastq.gz............................................................................................................................................\n",
      "  1408143 reads, 0 with hits (0%). 49.12s\n",
      "Processing  Q8-hac_barcode09.fastq.gz...................................................................\n",
      "  677247 reads, 0 with hits (0%). 25.46s\n",
      "Processing  Q8-hac_barcode10.fastq.gz..........................................................................................................\n",
      "  1062694 reads, 0 with hits (0%). 39.00s\n",
      "Processing  Q8-hac_barcode11.fastq.gz....................................................................\n",
      "  689515 reads, 85 with hits (0%). 21.85s\n",
      "Processing  Q8-hac_barcode12.fastq.gz.................\n",
      "  177428 reads, 125 with hits (0%). 5.55s\n",
      "Processing  Q8-hac_barcode13.fastq.gz........................................\n",
      "  408725 reads, 94 with hits (0%). 13.72s\n",
      "Processing  Q8-hac_barcode14.fastq.gz............................................................................................\n",
      "  923492 reads, 139 with hits (0%). 50.74s\n",
      "Processing  Q8-hac_barcode15.fastq.gz......................................................................................................................................................................................................\n",
      "  1981503 reads, 173 with hits (0%). 73.37s\n",
      "Processing  Q8-hac_barcode16.fastq.gz.................................................................\n",
      "  656057 reads, 1781 with hits (0%). 19.07s\n",
      "Processing  Q8-hac_barcode17.fastq.gz.......................................................\n",
      "  550520 reads, 82 with hits (0%). 15.81s\n",
      "Processing  Q8-hac_barcode18.fastq.gz.............\n",
      "  137822 reads, 84 with hits (0%). 3.34s\n",
      "Processing  Q8-hac_barcode19.fastq.gz..................................\n",
      "  343999 reads, 63 with hits (0%). 12.79s\n",
      "Processing  Q8-hac_barcode20.fastq.gz...........................................................\n",
      "  592052 reads, 156 with hits (0%). 17.19s\n",
      "Processing  Q8-hac_barcode21.fastq.gz.........................................................................................................................................................\n",
      "  1538839 reads, 1060 with hits (0%). 41.86s\n",
      "Processing  Q8-hac_unclassified.fastq.gz...........................................................................................................................................................................................................................................................................................................................................................................................................................................................................................\n",
      "  4751175 reads, 1 with hits (0%). 75.70s\n"
     ]
    }
   ],
   "source": [
    "import gzip\n",
    "from Bio import SeqIO\n",
    "import time\n",
    "\n",
    "scanLen = max([len(p.seq) for p in hrvPrimers]) + MAX_PRIMER_OFFSET\n",
    "\n",
    "for inFile in sorted(filter(lambda f: f.endswith(\".fastq.gz\"), os.listdir(fastQDir))):\n",
    "    hrvFile = os.path.join(hrvDir, \"HRV-\" + inFile)\n",
    "    if os.path.exists(hrvFile):\n",
    "        print(\"Skipping existing file:\", hrvFile)\n",
    "        continue\n",
    "    \n",
    "    with gzip.open(hrvFile, \"wt\") as out:\n",
    "        inPath = os.path.join(fastQDir, inFile)\n",
    "        print(\"Processing\", os.path.basename(inPath), end=\"\")\n",
    "        reads = 0\n",
    "        hitReads = 0\n",
    "        start = time.process_time()\n",
    "        for read in RCUtils.readFastQ(inPath):\n",
    "            reads += 1\n",
    "            if reads % 10000 == 0:\n",
    "                print(\".\",end=\"\")\n",
    "\n",
    "            if abs(len(read) - EXPECTED_LENGTH) > LENGTH_TOLERANCE:\n",
    "                continue\n",
    "            \n",
    "            aq = np.mean(read.letter_annotations[\"phred_quality\"])\n",
    "            if aq < MIN_QUAL:\n",
    "                continue\n",
    "\n",
    "            # Look for a primer hit at the start and end of the read\n",
    "            startHits = RCUtils.computePrimerHits(read[:scanLen], hrvPrimers)\n",
    "            if not startHits:\n",
    "                continue\n",
    "            startHit = startHits[-1]\n",
    "            endHits = RCUtils.computePrimerHits(read[-scanLen:], hrvPrimers)\n",
    "            if len(startHits) > 1 or len(endHits) > 1:\n",
    "                print(\"\")\n",
    "                print(\"Multiple hits! \", read.id)\n",
    "            if not endHits:\n",
    "                continue\n",
    "            endHit = endHits[0]\n",
    "            \n",
    "            # One primer should be the forward one and one should be reverse\n",
    "            if startHit.primer is endHit.primer:\n",
    "                continue\n",
    "\n",
    "            hitReads += 1\n",
    "\n",
    "            # Trim the read to the primer hits\n",
    "            origQual = read.letter_annotations[\"phred_quality\"]\n",
    "            read.letter_annotations = {}\n",
    "            end = endHit.end + len(read) - scanLen\n",
    "            read.seq = read.seq[startHit.start:end]\n",
    "            read.letter_annotations[\"phred_quality\"] = origQual[startHit.start:end]\n",
    "\n",
    "            SeqIO.write(read, out, \"fastq\")\n",
    "\n",
    "        elapsed = time.process_time() - start\n",
    "        print(\"\")\n",
    "        print(\"  %d reads, %d with hits (%d%%). %.2fs\" % (reads, hitReads, hitReads * 100 / reads, elapsed))\n"
   ]
  },
  {
   "cell_type": "markdown",
   "metadata": {},
   "source": [
    "There's one hit where there are multiple primers at the end. It looks like the reverse primer got added onto the end of the forward primer but only about 8 bases are overlapping so it doesn't trigger the OVERLAP_THRESHOLD in computePrimerHits. Using the first primer is correct in this case, so the heuristic above works."
   ]
  },
  {
   "cell_type": "code",
   "execution_count": 15,
   "metadata": {},
   "outputs": [
    {
     "name": "stdout",
     "output_type": "stream",
     "text": [
      "02e2a0b6-83ac-447d-952c-6d9d20b00c38 400\n",
      "   1.00 0-21: Rhinovirus/Enterovirus 3 (21)\n",
      "target quality      446565589888666677222   avg: 24\n",
      "target              AACACGGACACCCAAAGTAGT\n",
      "                    |||||||||||||||||||||\n",
      "query               AACACGGACACCCAAAGTAGT\n",
      "\n",
      "   1.00 366-387: Rhinovirus/Enterovirus 1 (21 rev)\n",
      "target quality      131777887765576543334   avg: 22\n",
      "target              CCGGGGAAACAGAAGTGCTTG\n",
      "                    |||||||||||||||||||||\n",
      "query               CCGGGGAAACAGAAGTGCTTG\n",
      "\n",
      "   0.81 379-399: Rhinovirus/Enterovirus 3 (21 rev)\n",
      "target quality      7654333-4766677777799   avg: 24\n",
      "target              AGTGCTT-GGGTGTCCGTGTT\n",
      "                    |.|.|||.|||||||||||||\n",
      "query               ACTACTTTGGGTGTCCGTGTT\n",
      "\n"
     ]
    }
   ],
   "source": [
    "for read in RCUtils.readFastQ(os.path.join(fastQDir, \"Q8-hac_barcode01.fastq.gz\")):\n",
    "    if read.id == \"02e2a0b6-83ac-447d-952c-6d9d20b00c38\":\n",
    "        hits = RCUtils.computePrimerHits(read, hrvPrimers)\n",
    "        printHits(read, hits)\n",
    "        break"
   ]
  },
  {
   "cell_type": "markdown",
   "metadata": {},
   "source": [
    "## Clustering"
   ]
  },
  {
   "cell_type": "markdown",
   "metadata": {},
   "source": [
    "Clustering is expensive and it's nice to be able to watch the progress. So rather than execute here directly, just copy the results from a terminal\n",
    "\n",
    "```\n",
    "%%bash\n",
    "# Invoke a shell command to cluster the reads\n",
    "cd ../Q8/reads-hac-hrv\n",
    "rm clusters/*\n",
    "../../vsearch-2.28.1-macos-aarch64/bin/vsearch --cluster_fast all.fastq --id 0.70 --centroids clusters/centroids.fasta --uc clusters/clusters.uc --consout clusters/consensus.fasta --clusters clusters/clout  --clusterout_sort\n",
    "\n",
    "vsearch v2.28.1_macos_aarch64, 16.0GB RAM, 8 cores\n",
    "https://github.com/torognes/vsearch\n",
    "\n",
    "Reading file all.fastq 100%  \n",
    "1262137718 nt in 3223575 seqs, min 320, max 440, avg 392\n",
    "Masking 100% \n",
    "Sorting by length 100%\n",
    "Counting k-mers 100% \n",
    "Clustering 100%  \n",
    "Sorting clusters 100%\n",
    "Writing clusters 100% \n",
    "Clusters: 2258 Size min 1, max 456421, avg 1427.6\n",
    "Singletons: 758, 0.0% of seqs, 33.6% of clusters\n",
    "Multiple alignments 100% \n",
    "\n",
    "```"
   ]
  },
  {
   "cell_type": "markdown",
   "metadata": {},
   "source": []
  }
 ],
 "metadata": {
  "kernelspec": {
   "display_name": "base",
   "language": "python",
   "name": "python3"
  },
  "language_info": {
   "codemirror_mode": {
    "name": "ipython",
    "version": 3
   },
   "file_extension": ".py",
   "mimetype": "text/x-python",
   "name": "python",
   "nbconvert_exporter": "python",
   "pygments_lexer": "ipython3",
   "version": "3.9.16"
  }
 },
 "nbformat": 4,
 "nbformat_minor": 2
}
