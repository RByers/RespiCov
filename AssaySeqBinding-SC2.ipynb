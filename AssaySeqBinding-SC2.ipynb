{
 "cells": [
  {
   "cell_type": "markdown",
   "id": "ad1a96df-6110-4762-b66a-de7785796da9",
   "metadata": {},
   "source": [
    "# Assay Binding analysis\n",
    "Analyze how well my PCR primers and probes match the sequences I've found in my samples."
   ]
  },
  {
   "cell_type": "markdown",
   "id": "ffbdd3ac-2bd4-406b-a7eb-2fad51d7a4b9",
   "metadata": {},
   "source": [
    "## Initialization, configuration and utility functions"
   ]
  },
  {
   "cell_type": "code",
   "execution_count": 7,
   "id": "40d8036f-16ec-4d80-84b8-7cdf3a6c874a",
   "metadata": {},
   "outputs": [
    {
     "name": "stdout",
     "output_type": "stream",
     "text": [
      "The autoreload extension is already loaded. To reload it, use:\n",
      "  %reload_ext autoreload\n",
      "Reading primers: RespiCovPrimers.fasta\n",
      "  Bordetella pertussis 1\n",
      "  Bordetella pertussis 2\n",
      "  Chlamydophila pneumoniae 1\n",
      "  Chlamydophila pneumoniae 2\n",
      "  Epstein-Barr virus 1\n",
      "  Epstein-Barr virus 2\n",
      "  Hantaan virus 1\n",
      "  Hantaan virus 2\n",
      "  Hantaan virus 3\n",
      "  Hantaan virus 4\n",
      "  Hendra virus 5\n",
      "  Hendra virus 6\n",
      "  Herpes simplex virus 1\n",
      "  Herpes simplex virus 2\n",
      "  Human adenovirus 1\n",
      "  Human adenovirus 2\n",
      "  Human adenovirus 3\n",
      "  Human adenovirus 4\n",
      "  Human adenovirus 5\n",
      "  Human adenovirus 6\n",
      "  Human adenovirus 7\n",
      "  Human adenovirus 8\n",
      "  Human adenovirus 9\n",
      "  Human adenovirus 10\n",
      "  Human adenovirus 11\n",
      "  Human adenovirus 12\n",
      "  Human adenovirus 13\n",
      "  Human adenovirus 14\n",
      "  Human bocavirus 1\n",
      "  Human bocavirus 2\n",
      "  Human coronavirus 229E 1\n",
      "  Human coronavirus 229E 2\n",
      "  Human coronavirus HKU1 1\n",
      "  Human coronavirus HKU1 2\n",
      "  Human coronavirus NL63 1\n",
      "  Human coronavirus NL63 2\n",
      "  Human coronavirus OC43 1\n",
      "  Human coronavirus OC43 2\n",
      "  Human cytomegalovirus 1\n",
      "  Human cytomegalovirus 2\n",
      "  Human metapneumovirus 1\n",
      "  Human metapneumovirus 2\n",
      "  Human metapneumovirus 3\n",
      "  Human metapneumovirus 4\n",
      "  Human parechovirus 1\n",
      "  Human parechovirus 2\n",
      "  Human respiratory syncytial virus 1 (2 variations)\n",
      "  Human respiratory syncytial virus 2\n",
      "  Influenza A virus 1\n",
      "  Influenza A virus 2\n",
      "  Influenza A virus 3\n",
      "  Influenza A virus 4\n",
      "  Influenza A virus 5\n",
      "  Influenza A virus 6\n",
      "  Influenza A virus 7\n",
      "  Influenza A virus 8\n",
      "  Influenza A virus 9\n",
      "  Influenza A virus 10\n",
      "  Influenza A virus 11\n",
      "  Influenza A virus 12\n",
      "  Influenza A virus 13\n",
      "  Influenza A virus 14\n",
      "  Influenza A virus 15\n",
      "  Influenza A virus 16\n",
      "  Influenza A virus 17\n",
      "  Influenza A virus 18\n",
      "  Influenza A virus 19\n",
      "  Influenza A virus 20\n",
      "  Influenza A virus 21\n",
      "  Influenza A virus 22\n",
      "  Influenza B virus 1\n",
      "  Influenza B virus 2\n",
      "  Influenza B virus 3\n",
      "  Influenza B virus 4\n",
      "  Influenza B virus 5\n",
      "  Influenza B virus 6\n",
      "  Influenza B virus 7\n",
      "  Influenza B virus 8\n",
      "  Influenza C virus 1\n",
      "  Influenza C virus 2\n",
      "  Legionelle pneumophila 1\n",
      "  Legionelle pneumophila 2\n",
      "  Measles virus 1\n",
      "  Measles virus 2\n",
      "  MERS coronavirus 1\n",
      "  MERS coronavirus 2\n",
      "  Mumps orthorubulavirus 1\n",
      "  Mumps orthorubulavirus 2\n",
      "  Mycoplasma pneumoniae 1\n",
      "  Mycoplasma pneumoniae 2\n",
      "  Nipah virus 1\n",
      "  Nipah virus 2\n",
      "  Respirovirus 1\n",
      "  Respirovirus 2\n",
      "  Respirovirus 3\n",
      "  Respirovirus 4\n",
      "  Respirovirus 5\n",
      "  Respirovirus 6\n",
      "  Respirovirus 7\n",
      "  Respirovirus 8\n",
      "  Rhinovirus/Enterovirus 1\n",
      "  Rhinovirus/Enterovirus 3\n",
      "  Rhinovirus/Enterovirus 2\n",
      "  SARS coronavirus 1/2 1\n",
      "  SARS coronavirus 1/2 2\n",
      "  SARS coronavirus 1/2 3\n",
      "  SARS coronavirus 1/2 4\n",
      "  SARS coronavirus 1/2 5\n",
      "  SARS coronavirus 1/2 6\n",
      "  Streptococcus pneumoniae 1\n",
      "  Streptococcus pneumoniae 2\n",
      "  Varizella zoster virus 1\n",
      "  Varizella zoster virus 2\n",
      "Read 114 primers\n"
     ]
    }
   ],
   "source": [
    "from Bio.Seq import Seq\n",
    "from Bio import SeqIO\n",
    "from Bio import Align\n",
    "import RCUtils\n",
    "\n",
    "%load_ext autoreload\n",
    "%autoreload 1\n",
    "%aimport RCUtils\n",
    "\n",
    "primers = RCUtils.readPrimers(\"RespiCovPrimers.fasta\", display=True)\n",
    "\n",
    "aligner = Align.PairwiseAligner(mode='local', match_score=1, mismatch_score=0, gap_score=-1)\n",
    "\n",
    "def printSeqBinding(path, format=\"fastq\"):\n",
    "    # TODO: Try to print a semi-global alignment. Can use global with end_gap_score=0    \n",
    "    record = SeqIO.read(path, format)\n",
    "    hits = RCUtils.computePrimerHits(record, primers, allowOverlaps=True)\n",
    "    for hit in sorted(hits, key=lambda hit: hit.primer.id):\n",
    "        print (\"%s len=%d match=%d%% [%d:%d]\" % (hit.primer.description, len(hit.primer.seq), 100*hit.mr, hit.start, hit.end))\n",
    "        if hit.mr < 1:\n",
    "            a = aligner.align(record.seq, hit.primer.seq, strand=\"-\" if hit.rev else \"+\")[0]\n",
    "            if a.coordinates[1][0] > 0:\n",
    "                if a.coordinates[0][0] == 0:\n",
    "                    print (\"  Primer falls %d bases off the start of the sequence\" % a.coordinates[1][0])\n",
    "                else:\n",
    "                    print (\"  Primer mismatch in first %d bases\" % a.coordinates[1][0])\n",
    "            pt = len(hit.primer.seq) - a.coordinates[1][-1]\n",
    "            if pt > 0:\n",
    "                if a.coordinates[0][-1] == len(record):\n",
    "                    print (\"  Primer falls %d bases off the end of the sequence\" % pt)\n",
    "                else:\n",
    "                    print (\"  Primer mismatch in the last %d bases\" % pt)\n",
    "            print(a)"
   ]
  },
  {
   "attachments": {},
   "cell_type": "markdown",
   "id": "33b84307-c19f-49e3-995b-963c052eaf1f",
   "metadata": {},
   "source": [
    "# SRC1 - SARS CoV 2"
   ]
  },
  {
   "cell_type": "code",
   "execution_count": 8,
   "id": "81b39a7f-aa40-4d85-a2f4-ace850331734",
   "metadata": {},
   "outputs": [
    {
     "name": "stdout",
     "output_type": "stream",
     "text": [
      "SARS coronavirus 1/2 1 len=20 match=100% [15825:15845]\n",
      "SARS coronavirus 1/2 2 len=22 match=100% [16177:16199]\n",
      "SARS coronavirus 1/2 3 len=21 match=100% [16832:16853]\n",
      "SARS coronavirus 1/2 4 len=22 match=100% [17073:17095]\n",
      "SARS coronavirus 1/2 5 len=20 match=100% [29324:29344]\n",
      "SARS coronavirus 1/2 6 len=20 match=100% [29667:29687]\n"
     ]
    }
   ],
   "source": [
    "printSeqBinding(\"myseqs/SRC1-SC2.fasta\", \"fasta\")"
   ]
  }
 ],
 "metadata": {
  "kernelspec": {
   "display_name": "base",
   "language": "python",
   "name": "python3"
  },
  "language_info": {
   "codemirror_mode": {
    "name": "ipython",
    "version": 3
   },
   "file_extension": ".py",
   "mimetype": "text/x-python",
   "name": "python",
   "nbconvert_exporter": "python",
   "pygments_lexer": "ipython3",
   "version": "3.9.16"
  },
  "vscode": {
   "interpreter": {
    "hash": "83fdf2a797299d19b713b057933c5e44ac262466f7b0cfa31a267ba8d4c23490"
   }
  }
 },
 "nbformat": 4,
 "nbformat_minor": 5
}
