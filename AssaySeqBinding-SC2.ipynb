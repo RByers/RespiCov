{
 "cells": [
  {
   "cell_type": "markdown",
   "id": "ad1a96df-6110-4762-b66a-de7785796da9",
   "metadata": {},
   "source": [
    "# Assay Binding analysis\n",
    "Analyze how well my PCR primers and probes match the sequences I've found in my samples."
   ]
  },
  {
   "cell_type": "markdown",
   "id": "ffbdd3ac-2bd4-406b-a7eb-2fad51d7a4b9",
   "metadata": {},
   "source": [
    "## Initialization, configuration and utility functions"
   ]
  },
  {
   "cell_type": "code",
   "execution_count": null,
   "id": "40d8036f-16ec-4d80-84b8-7cdf3a6c874a",
   "metadata": {},
   "outputs": [],
   "source": [
    "from Bio.Seq import Seq\n",
    "from Bio import SeqIO\n",
    "from Bio import Align\n",
    "\n",
    "%load_ext autoreload\n",
    "%autoreload 1\n",
    "%aimport RCUtils\n",
    "\n",
    "primers = RCUtils.readPrimers(\"RespiCovPrimers.fasta\", display=True)\n",
    "\n",
    "aligner = Align.PairwiseAligner(mode='local', match_score=1, mismatch_score=0, gap_score=-1)\n",
    "\n",
    "def printSeqBinding(path, format=\"fastq\"):\n",
    "    # TODO: Try to print a semi-global alignment. Can use global with end_gap_score=0    \n",
    "    record = SeqIO.read(path, format)\n",
    "    hits = RCUtils.computePrimerHits(record, primers, allowOverlaps=True)\n",
    "    for hit in sorted(hits, key=lambda hit: hit.primer.id):\n",
    "        print (\"%s len=%d match=%d%% [%d:%d]\" % (hit.primer.id, len(hit.primer.seq), 100*hit.mr, hit.start, hit.end))\n",
    "        if hit.mr < 1:\n",
    "            a = aligner.align(record.seq, hit.primer.seq, strand=\"-\" if hit.rev else \"+\")[0]\n",
    "            if a.coordinates[1][0] > 0:\n",
    "                if a.coordinates[0][0] == 0:\n",
    "                    print (\"  Primer falls %d bases off the start of the sequence\" % a.coordinates[1][0])\n",
    "                else:\n",
    "                    print (\"  Primer mismatch in first %d bases\" % a.coordinates[1][0])\n",
    "            pt = len(hit.primer.seq) - a.coordinates[1][-1]\n",
    "            if pt > 0:\n",
    "                if a.coordinates[0][-1] == len(record):\n",
    "                    print (\"  Primer falls %d bases off the end of the sequence\" % pt)\n",
    "                else:\n",
    "                    print (\"  Primer mismatch in the last %d bases\" % pt)\n",
    "            print(a)"
   ]
  },
  {
   "attachments": {},
   "cell_type": "markdown",
   "id": "ff987238",
   "metadata": {},
   "source": [
    "## Summary\n"
   ]
  },
  {
   "cell_type": "code",
   "execution_count": null,
   "id": "1985882d",
   "metadata": {},
   "outputs": [],
   "source": [
    "import glob\n",
    "from collections import defaultdict\n",
    "import pandas as pd\n",
    "\n",
    "# Show a table of primer match scores for each sequence\n",
    "table = dict()\n",
    "for path in glob.glob(\"myseqs/*.fastq\"):\n",
    "    record = SeqIO.read(path, \"fastq\")\n",
    "    hits = RCUtils.computePrimerHits(record, primers, allowOverlaps=True)\n",
    "    scores = dict()\n",
    "    for hit in hits:\n",
    "        # Get the primer name without the suffix\n",
    "        pname = hit.primer.id.split(\"-\")[0]\n",
    "        if pname in scores:\n",
    "            scores[pname] *= hit.mr\n",
    "        else:\n",
    "            scores[pname] = hit.mr\n",
    "        \n",
    "    table[record.id] = scores\n",
    "\n",
    "df = pd.DataFrame.from_dict(table, orient='index')\n",
    "df *= 100\n",
    "df = df.round(0).astype(int)\n",
    "df"
   ]
  },
  {
   "attachments": {},
   "cell_type": "markdown",
   "id": "4851c1da",
   "metadata": {},
   "source": [
    "Overall we see HRVMa is a pretty poor match for everything except S28, which matches qPCR experimental results. ENTng and ENTrc are generally both good."
   ]
  },
  {
   "cell_type": "markdown",
   "id": "33b84307-c19f-49e3-995b-963c052eaf1f",
   "metadata": {},
   "source": [
    "# S28 - Rhinovirus A-23"
   ]
  },
  {
   "cell_type": "code",
   "execution_count": null,
   "id": "81b39a7f-aa40-4d85-a2f4-ace850331734",
   "metadata": {},
   "outputs": [],
   "source": [
    "printSeqBinding(\"myseqs/S28-RVA-23.fastq\")"
   ]
  },
  {
   "cell_type": "markdown",
   "id": "66dae935-f608-470f-9ee7-8f851ff05f71",
   "metadata": {},
   "source": [
    "## S44 - Rhinovirus A-56"
   ]
  },
  {
   "cell_type": "code",
   "execution_count": null,
   "id": "13caa15c-bb46-4185-a0bc-0d619606df49",
   "metadata": {},
   "outputs": [],
   "source": [
    "printSeqBinding(\"myseqs/S44-RVA-56.fastq\")"
   ]
  },
  {
   "attachments": {},
   "cell_type": "markdown",
   "id": "6a981a63-ea0c-4da9-9534-c31673e27431",
   "metadata": {},
   "source": [
    "## S48-RC-1 - Rhinovirus C-1"
   ]
  },
  {
   "cell_type": "code",
   "execution_count": null,
   "id": "3c63e620-75c3-4344-8eed-8e14482d5f99",
   "metadata": {},
   "outputs": [],
   "source": [
    "printSeqBinding(\"myseqs/S48-RVC-1.fastq\")"
   ]
  },
  {
   "attachments": {},
   "cell_type": "markdown",
   "id": "9c46e05e",
   "metadata": {},
   "source": [
    "Here we see the critical final base of the HRVMA-f primer mismatches our S48 RVC-1 sequence, and there are three other mismatches. This explains why I couldn't get S48 to test positive via HRV qPCR. However, it does seem to be a perfect match for ENTng, so I still don't know why I had so much trouble with that assay being unreliable for this sample."
   ]
  },
  {
   "attachments": {},
   "cell_type": "markdown",
   "id": "5aba2c03",
   "metadata": {},
   "source": [
    "## RefSeq Rhinovirus C-1\n",
    "\n",
    "Test against the full C-1 genome since earlier primers and probes weren't designed for Rhinovirus C."
   ]
  },
  {
   "cell_type": "code",
   "execution_count": null,
   "id": "b81ca4c3",
   "metadata": {},
   "outputs": [],
   "source": [
    "printSeqBinding(\"refseq/Rhinovirus-C1.gb\", \"gb\")"
   ]
  },
  {
   "attachments": {},
   "cell_type": "markdown",
   "id": "1e889fa6",
   "metadata": {},
   "source": [
    "The KRV ka primer sets match perfectly."
   ]
  },
  {
   "cell_type": "markdown",
   "id": "8da8e49a",
   "metadata": {},
   "source": []
  }
 ],
 "metadata": {
  "kernelspec": {
   "display_name": "base",
   "language": "python",
   "name": "python3"
  },
  "language_info": {
   "codemirror_mode": {
    "name": "ipython",
    "version": 3
   },
   "file_extension": ".py",
   "mimetype": "text/x-python",
   "name": "python",
   "nbconvert_exporter": "python",
   "pygments_lexer": "ipython3",
   "version": "3.9.12"
  },
  "vscode": {
   "interpreter": {
    "hash": "83fdf2a797299d19b713b057933c5e44ac262466f7b0cfa31a267ba8d4c23490"
   }
  }
 },
 "nbformat": 4,
 "nbformat_minor": 5
}
