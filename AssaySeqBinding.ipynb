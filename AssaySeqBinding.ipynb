{
 "cells": [
  {
   "cell_type": "markdown",
   "id": "ad1a96df-6110-4762-b66a-de7785796da9",
   "metadata": {},
   "source": [
    "# Assay Binding analysis\n",
    "Analyze how well my PCR primers and probes match the sequences I've found in my samples."
   ]
  },
  {
   "cell_type": "markdown",
   "id": "ffbdd3ac-2bd4-406b-a7eb-2fad51d7a4b9",
   "metadata": {},
   "source": [
    "## Initialization, configuration and utility functions"
   ]
  },
  {
   "cell_type": "code",
   "execution_count": 53,
   "id": "40d8036f-16ec-4d80-84b8-7cdf3a6c874a",
   "metadata": {},
   "outputs": [
    {
     "name": "stdout",
     "output_type": "stream",
     "text": [
      "Read 17 primers\n"
     ]
    }
   ],
   "source": [
    "from Bio.Seq import Seq\n",
    "from Bio import SeqIO\n",
    "from Bio import Align\n",
    "\n",
    "import RCUtils\n",
    "\n",
    "# For now this is just Enterovirus primers, but could expand it to other species\n",
    "primers = RCUtils.readPrimers(\"qPCRPrimers.fasta\")\n",
    "print(\"Read %i primers\" % (len(primers)))   \n",
    "\n",
    "def printSeqBinding(path):\n",
    "    global a\n",
    "    # TODO: Try to print a semi-global alignment. Can use global with end_gap_score=0\n",
    "    aligner = Align.PairwiseAligner(mode='local', match_score=1, mismatch_score=0, gap_score=-1)\n",
    "    record = SeqIO.read(path, \"fastq\")\n",
    "    hits = RCUtils.computePrimerHits(record, primers, allowOverlaps=True)\n",
    "    for hit in hits:\n",
    "        print (\"%s len=%d match=%d%%\" % (hit.primer.id, len(hit.primer.seq), 100*hit.mr))\n",
    "        if hit.mr < 1:\n",
    "            a = aligner.align(record.seq, hit.primer.seq, strand=\"-\" if hit.rev else \"+\")[0]\n",
    "            if a.coordinates[1][0] > 0:\n",
    "                if a.coordinates[0][0] == 0:\n",
    "                    print (\"  Primer falls %d bases off the start of the sequence\" % a.coordinates[1][0])\n",
    "                else:\n",
    "                    print (\"  Primer mismatch in first %d bases\" % a.coordinates[1][0])\n",
    "            pt = len(hit.primer.seq) - a.coordinates[1][-1]\n",
    "            if pt > 0:\n",
    "                if a.coordinates[0][-1] == len(record):\n",
    "                    print (\"  Primer falls %d bases off the end of the sequence\" % pt)\n",
    "                else:\n",
    "                    print (\"  Primer mismatch in the last %d bases\" % pt)\n",
    "            print(a)"
   ]
  },
  {
   "cell_type": "markdown",
   "id": "33b84307-c19f-49e3-995b-963c052eaf1f",
   "metadata": {},
   "source": [
    "# S28 - Rhinovirus A-23"
   ]
  },
  {
   "cell_type": "code",
   "execution_count": 54,
   "id": "81b39a7f-aa40-4d85-a2f4-ace850331734",
   "metadata": {},
   "outputs": [
    {
     "name": "stdout",
     "output_type": "stream",
     "text": [
      "ENTng-f.1 len=19 match=100%\n",
      "ENTng-p.6 len=18 match=100%\n",
      "ENTrc-f1 len=21 match=100%\n",
      "ENTrc-r len=21 match=100%\n",
      "HRVma-f len=19 match=100%\n",
      "HRVma-p len=18 match=100%\n",
      "ENTng-r len=22 match=95%\n",
      "  Primer falls 1 bases off the end of the sequence\n",
      "target          371 CTACTTTGGGTGTCCGTGTTT 392\n",
      "                  0 |||||||||||||||||||||  21\n",
      "query             0 CTACTTTGGGTGTCCGTGTTT  21\n",
      "\n",
      "HRVma-r len=20 match=95%\n",
      "target          359 GGATGGGACCAACTACTTTG 379\n",
      "                  0 ||||||||||.|||||||||  20\n",
      "query             0 GGATGGGACCGACTACTTTG  20\n",
      "\n"
     ]
    }
   ],
   "source": [
    "printSeqBinding(\"myseqs/S28-RVA-23.fastq\")"
   ]
  },
  {
   "cell_type": "markdown",
   "id": "66dae935-f608-470f-9ee7-8f851ff05f71",
   "metadata": {},
   "source": [
    "## S44 - Rhinovirus A-56"
   ]
  },
  {
   "cell_type": "code",
   "execution_count": 51,
   "id": "13caa15c-bb46-4185-a0bc-0d619606df49",
   "metadata": {},
   "outputs": [
    {
     "name": "stdout",
     "output_type": "stream",
     "text": [
      "ENTng-f.1 len=19 match=100%\n",
      "ENTng-r len=22 match=100%\n",
      "ENTng-p.6 len=18 match=100%\n",
      "ENTrc-r len=21 match=100%\n",
      "HRVma-p len=18 match=100%\n",
      "ENTrc-f1 len=21 match=95%\n",
      "target           23 CAAGCACTTCTGTCTCCCCGG 44\n",
      "                  0 |||||||||||||.||||||| 21\n",
      "query             0 CAAGCACTTCTGTTTCCCCGG 21\n",
      "\n",
      "HRVma-r len=20 match=95%\n",
      "target          383 GGATGGGACCAACTACTTTG 403\n",
      "                  0 ||||||||||.|||||||||  20\n",
      "query             0 GGATGGGACCGACTACTTTG  20\n",
      "\n",
      "HRVma-f len=19 match=89%\n",
      "target          259 TTGACAAGGTGTGAAGAGC 278\n",
      "                  0 |.||||.||||||||||||  19\n",
      "query             0 TGGACAGGGTGTGAAGAGC  19\n",
      "\n"
     ]
    }
   ],
   "source": [
    "printSeqBinding(\"myseqs/S44-RVA-56.fastq\")"
   ]
  },
  {
   "cell_type": "markdown",
   "id": "6a981a63-ea0c-4da9-9534-c31673e27431",
   "metadata": {},
   "source": [
    "## S45-51 - Rhinovirus C-1"
   ]
  },
  {
   "cell_type": "code",
   "execution_count": 52,
   "id": "3c63e620-75c3-4344-8eed-8e14482d5f99",
   "metadata": {},
   "outputs": [
    {
     "name": "stdout",
     "output_type": "stream",
     "text": [
      "ENTng-f.1 len=19 match=100%\n",
      "ENTng-r len=22 match=100%\n",
      "ENTng-p.4 len=18 match=100%\n",
      "ENTrc-f1 len=21 match=100%\n",
      "ENTrc-r len=21 match=100%\n",
      "HRVma-p len=18 match=100%\n",
      "HRVma-r len=20 match=90%\n",
      "target          363 GGATGGAACCAACTACTTTG 383\n",
      "                  0 ||||||.|||.|||||||||  20\n",
      "query             0 GGATGGGACCGACTACTTTG  20\n",
      "\n",
      "HRVma-f len=19 match=89%\n",
      "  Primer falls 1 bases off the end of the sequence\n",
      "target          239 TGGACAAGGTGTGAAGAG 257\n",
      "                  0 ||||||.|||||||||||  18\n",
      "query             0 TGGACAGGGTGTGAAGAG  18\n",
      "\n"
     ]
    }
   ],
   "source": [
    "printSeqBinding(\"myseqs/S45-51-RVC-1.fastq\")"
   ]
  },
  {
   "cell_type": "code",
   "execution_count": null,
   "id": "a1f713bc-8d1f-423c-bf9a-8545d8d8d114",
   "metadata": {},
   "outputs": [],
   "source": []
  }
 ],
 "metadata": {
  "kernelspec": {
   "display_name": "Python 3 (ipykernel)",
   "language": "python",
   "name": "python3"
  },
  "language_info": {
   "codemirror_mode": {
    "name": "ipython",
    "version": 3
   },
   "file_extension": ".py",
   "mimetype": "text/x-python",
   "name": "python",
   "nbconvert_exporter": "python",
   "pygments_lexer": "ipython3",
   "version": "3.9.12"
  }
 },
 "nbformat": 4,
 "nbformat_minor": 5
}
