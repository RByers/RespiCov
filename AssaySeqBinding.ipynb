{
 "cells": [
  {
   "cell_type": "markdown",
   "id": "ad1a96df-6110-4762-b66a-de7785796da9",
   "metadata": {},
   "source": [
    "# Assay Binding analysis\n",
    "Analyze how well my PCR primers and probes match the sequences I've found in my samples."
   ]
  },
  {
   "cell_type": "markdown",
   "id": "ffbdd3ac-2bd4-406b-a7eb-2fad51d7a4b9",
   "metadata": {},
   "source": [
    "## Initialization, configuration and utility functions"
   ]
  },
  {
   "cell_type": "code",
   "execution_count": 2,
   "id": "40d8036f-16ec-4d80-84b8-7cdf3a6c874a",
   "metadata": {},
   "outputs": [
    {
     "name": "stdout",
     "output_type": "stream",
     "text": [
      "Reading primers: qPCRPrimers.fasta\n",
      "  ENTng-f (2 variations)\n",
      "  ENTng-r\n",
      "  ENTng-p (8 variations)\n",
      "  ENTrc-f1\n",
      "  ENTrc-f2\n",
      "  ENTrc-r\n",
      "  HRVma-f\n",
      "  HRVma-r\n",
      "  HRVma-p\n",
      "  HRVkaV-fo (2 variations)\n",
      "  HRVkaV-fi\n",
      "  HRVkaV-r (768 variations)\n",
      "  HRVka5-f\n",
      "  HRVka5-ro\n",
      "  HRVka5-ri\n",
      "Read 791 primers\n"
     ]
    }
   ],
   "source": [
    "from Bio.Seq import Seq\n",
    "from Bio import SeqIO\n",
    "from Bio import Align\n",
    "\n",
    "%load_ext autoreload\n",
    "%autoreload 1\n",
    "%aimport RCUtils\n",
    "\n",
    "# For now this is just Enterovirus primers, but could expand it to other species\n",
    "primers = RCUtils.readPrimers(\"qPCRPrimers.fasta\", display=True)\n",
    "\n",
    "aligner = Align.PairwiseAligner(mode='local', match_score=1, mismatch_score=0, gap_score=-1)\n",
    "\n",
    "def printSeqBinding(path, format=\"fastq\"):\n",
    "    # TODO: Try to print a semi-global alignment. Can use global with end_gap_score=0    \n",
    "    record = SeqIO.read(path, format)\n",
    "    hits = RCUtils.computePrimerHits(record, primers, allowOverlaps=True)\n",
    "    for hit in sorted(hits, key=lambda hit: hit.primer.id):\n",
    "        print (\"%s len=%d match=%d%% [%d:%d]\" % (hit.primer.id, len(hit.primer.seq), 100*hit.mr, hit.start, hit.end))\n",
    "        if hit.mr < 1:\n",
    "            a = aligner.align(record.seq, hit.primer.seq, strand=\"-\" if hit.rev else \"+\")[0]\n",
    "            if a.coordinates[1][0] > 0:\n",
    "                if a.coordinates[0][0] == 0:\n",
    "                    print (\"  Primer falls %d bases off the start of the sequence\" % a.coordinates[1][0])\n",
    "                else:\n",
    "                    print (\"  Primer mismatch in first %d bases\" % a.coordinates[1][0])\n",
    "            pt = len(hit.primer.seq) - a.coordinates[1][-1]\n",
    "            if pt > 0:\n",
    "                if a.coordinates[0][-1] == len(record):\n",
    "                    print (\"  Primer falls %d bases off the end of the sequence\" % pt)\n",
    "                else:\n",
    "                    print (\"  Primer mismatch in the last %d bases\" % pt)\n",
    "            print(a)"
   ]
  },
  {
   "attachments": {},
   "cell_type": "markdown",
   "id": "ff987238",
   "metadata": {},
   "source": [
    "## Summary\n"
   ]
  },
  {
   "cell_type": "code",
   "execution_count": 2,
   "id": "1985882d",
   "metadata": {},
   "outputs": [
    {
     "data": {
      "text/html": [
       "<div>\n",
       "<style scoped>\n",
       "    .dataframe tbody tr th:only-of-type {\n",
       "        vertical-align: middle;\n",
       "    }\n",
       "\n",
       "    .dataframe tbody tr th {\n",
       "        vertical-align: top;\n",
       "    }\n",
       "\n",
       "    .dataframe thead th {\n",
       "        text-align: right;\n",
       "    }\n",
       "</style>\n",
       "<table border=\"1\" class=\"dataframe\">\n",
       "  <thead>\n",
       "    <tr style=\"text-align: right;\">\n",
       "      <th></th>\n",
       "      <th>ENTrc</th>\n",
       "      <th>HRVka5</th>\n",
       "      <th>HRVma</th>\n",
       "      <th>HRVkaV</th>\n",
       "      <th>ENTng</th>\n",
       "    </tr>\n",
       "  </thead>\n",
       "  <tbody>\n",
       "    <tr>\n",
       "      <th>S44-RVA-56</th>\n",
       "      <td>95</td>\n",
       "      <td>95</td>\n",
       "      <td>85</td>\n",
       "      <td>100</td>\n",
       "      <td>100</td>\n",
       "    </tr>\n",
       "    <tr>\n",
       "      <th>S48-RVC-1</th>\n",
       "      <td>100</td>\n",
       "      <td>100</td>\n",
       "      <td>80</td>\n",
       "      <td>100</td>\n",
       "      <td>100</td>\n",
       "    </tr>\n",
       "    <tr>\n",
       "      <th>S28-RVA-23</th>\n",
       "      <td>100</td>\n",
       "      <td>96</td>\n",
       "      <td>95</td>\n",
       "      <td>95</td>\n",
       "      <td>95</td>\n",
       "    </tr>\n",
       "  </tbody>\n",
       "</table>\n",
       "</div>"
      ],
      "text/plain": [
       "            ENTrc  HRVka5  HRVma  HRVkaV  ENTng\n",
       "S44-RVA-56     95      95     85     100    100\n",
       "S48-RVC-1     100     100     80     100    100\n",
       "S28-RVA-23    100      96     95      95     95"
      ]
     },
     "execution_count": 2,
     "metadata": {},
     "output_type": "execute_result"
    }
   ],
   "source": [
    "import glob\n",
    "from collections import defaultdict\n",
    "import pandas as pd\n",
    "\n",
    "# Show a table of primer match scores for each sequence\n",
    "table = dict()\n",
    "for path in glob.glob(\"myseqs/*.fastq\"):\n",
    "    record = SeqIO.read(path, \"fastq\")\n",
    "    hits = RCUtils.computePrimerHits(record, primers, allowOverlaps=True)\n",
    "    scores = dict()\n",
    "    for hit in hits:\n",
    "        # Get the primer name without the suffix\n",
    "        pname = hit.primer.id.split(\"-\")[0]\n",
    "        if pname in scores:\n",
    "            scores[pname] *= hit.mr\n",
    "        else:\n",
    "            scores[pname] = hit.mr\n",
    "        \n",
    "    table[record.id] = scores\n",
    "\n",
    "df = pd.DataFrame.from_dict(table, orient='index')\n",
    "df *= 100\n",
    "df = df.round(0).astype(int)\n",
    "df"
   ]
  },
  {
   "attachments": {},
   "cell_type": "markdown",
   "id": "4851c1da",
   "metadata": {},
   "source": [
    "Overall we see HRVMa is a pretty poor match for everything except S28, which matches qPCR experimental results. ENTng and ENTrc are generally both good."
   ]
  },
  {
   "cell_type": "markdown",
   "id": "33b84307-c19f-49e3-995b-963c052eaf1f",
   "metadata": {},
   "source": [
    "# S28 - Rhinovirus A-23"
   ]
  },
  {
   "cell_type": "code",
   "execution_count": 6,
   "id": "81b39a7f-aa40-4d85-a2f4-ace850331734",
   "metadata": {},
   "outputs": [
    {
     "name": "stdout",
     "output_type": "stream",
     "text": [
      "ENTng-f.1 len=19 match=100% [279:298]\n",
      "ENTng-p.6 len=18 match=100% [361:379]\n",
      "ENTng-r len=22 match=95% [371:392]\n",
      "  Primer falls 1 bases off the end of the sequence\n",
      "target          371 CTACTTTGGGTGTCCGTGTTT 392\n",
      "                  0 |||||||||||||||||||||  21\n",
      "query             0 CTACTTTGGGTGTCCGTGTTT  21\n",
      "\n",
      "ENTrc-f1 len=21 match=100% [1:22]\n",
      "ENTrc-r len=21 match=100% [370:391]\n",
      "HRVka5-f len=21 match=100% [1:22]\n",
      "HRVka5-ri len=18 match=100% [273:291]\n",
      "HRVka5-ro len=23 match=96% [370:392]\n",
      "  Primer mismatch in first 23 bases\n",
      "  Primer falls 22 bases off the end of the sequence\n",
      "target          370 ACTACTTTGGGTGTCCGTGTTT 392\n",
      "                  0 ||||||||||||||||||||||  22\n",
      "query            23 ACTACTTTGGGTGTCCGTGTTT   1\n",
      "\n",
      "HRVkaV-fi len=22 match=95% [371:392]\n",
      "  Primer falls 1 bases off the end of the sequence\n",
      "target          371 CTACTTTGGGTGTCCGTGTTT 392\n",
      "                  0 |||||||||||||||||||||  21\n",
      "query             0 CTACTTTGGGTGTCCGTGTTT  21\n",
      "\n",
      "HRVkaV-fo.1 len=20 match=100% [278:298]\n",
      "HRVma-f len=19 match=100% [235:254]\n",
      "HRVma-p len=18 match=100% [273:291]\n",
      "HRVma-r len=20 match=95% [359:379]\n",
      "target          359 GGATGGGACCAACTACTTTG 379\n",
      "                  0 ||||||||||.|||||||||  20\n",
      "query             0 GGATGGGACCGACTACTTTG  20\n",
      "\n"
     ]
    }
   ],
   "source": [
    "printSeqBinding(\"myseqs/S28-RVA-23.fastq\")"
   ]
  },
  {
   "cell_type": "markdown",
   "id": "66dae935-f608-470f-9ee7-8f851ff05f71",
   "metadata": {},
   "source": [
    "## S44 - Rhinovirus A-56"
   ]
  },
  {
   "cell_type": "code",
   "execution_count": 7,
   "id": "13caa15c-bb46-4185-a0bc-0d619606df49",
   "metadata": {},
   "outputs": [
    {
     "name": "stdout",
     "output_type": "stream",
     "text": [
      "ENTng-f.1 len=19 match=100% [303:322]\n",
      "ENTng-p.6 len=18 match=100% [385:403]\n",
      "ENTng-r len=22 match=100% [395:417]\n",
      "ENTrc-f1 len=21 match=95% [23:44]\n",
      "target           23 CAAGCACTTCTGTCTCCCCGG 44\n",
      "                  0 |||||||||||||.||||||| 21\n",
      "query             0 CAAGCACTTCTGTTTCCCCGG 21\n",
      "\n",
      "ENTrc-r len=21 match=100% [394:415]\n",
      "HRVka5-f len=21 match=95% [23:44]\n",
      "target           23 CAAGCACTTCTGTCTCCCCGG 44\n",
      "                  0 |||||||||||||.||||||| 21\n",
      "query             0 CAAGCACTTCTGTTTCCCCGG 21\n",
      "\n",
      "HRVka5-ri len=18 match=100% [297:315]\n",
      "HRVka5-ro len=23 match=100% [394:417]\n",
      "HRVkaV-fi len=22 match=100% [395:417]\n",
      "HRVkaV-fo.1 len=20 match=100% [302:322]\n",
      "HRVma-f len=19 match=89% [259:278]\n",
      "target          259 TTGACAAGGTGTGAAGAGC 278\n",
      "                  0 |.||||.||||||||||||  19\n",
      "query             0 TGGACAGGGTGTGAAGAGC  19\n",
      "\n",
      "HRVma-p len=18 match=100% [297:315]\n",
      "HRVma-r len=20 match=95% [383:403]\n",
      "target          383 GGATGGGACCAACTACTTTG 403\n",
      "                  0 ||||||||||.|||||||||  20\n",
      "query             0 GGATGGGACCGACTACTTTG  20\n",
      "\n"
     ]
    }
   ],
   "source": [
    "printSeqBinding(\"myseqs/S44-RVA-56.fastq\")"
   ]
  },
  {
   "attachments": {},
   "cell_type": "markdown",
   "id": "6a981a63-ea0c-4da9-9534-c31673e27431",
   "metadata": {},
   "source": [
    "## S48-RC-1 - Rhinovirus C-1"
   ]
  },
  {
   "cell_type": "code",
   "execution_count": 5,
   "id": "3c63e620-75c3-4344-8eed-8e14482d5f99",
   "metadata": {},
   "outputs": [
    {
     "name": "stdout",
     "output_type": "stream",
     "text": [
      "ENTng-f.1 len=19 match=100% [283:302]\n",
      "ENTng-p.4 len=18 match=100% [365:383]\n",
      "ENTng-r len=22 match=100% [375:397]\n",
      "ENTrc-f1 len=21 match=100% [1:22]\n",
      "ENTrc-r len=21 match=100% [374:395]\n",
      "HRVka5-f len=21 match=100% [1:22]\n",
      "HRVka5-ri len=18 match=100% [277:295]\n",
      "HRVka5-ro len=23 match=100% [374:397]\n",
      "HRVkaV-fi len=22 match=100% [375:397]\n",
      "HRVkaV-fo.1 len=20 match=100% [282:302]\n",
      "HRVma-f len=19 match=89% [239:257]\n",
      "  Primer mismatch in the last 1 bases\n",
      "target          239 TGGACAAGGTGTGAAGAG 257\n",
      "                  0 ||||||.|||||||||||  18\n",
      "query             0 TGGACAGGGTGTGAAGAG  18\n",
      "\n",
      "HRVma-p len=18 match=100% [277:295]\n",
      "HRVma-r len=20 match=90% [363:383]\n",
      "target          363 GGATGGAACCAACTACTTTG 383\n",
      "                  0 ||||||.|||.|||||||||  20\n",
      "query             0 GGATGGGACCGACTACTTTG  20\n",
      "\n"
     ]
    }
   ],
   "source": [
    "printSeqBinding(\"myseqs/S48-RVC-1.fastq\")"
   ]
  },
  {
   "attachments": {},
   "cell_type": "markdown",
   "id": "9c46e05e",
   "metadata": {},
   "source": [
    "Here we see the critical final base of the HRVMA-f primer mismatches our S48 RVC-1 sequence, and there are three other mismatches. This explains why I couldn't get S48 to test positive via HRV qPCR. However, it does seem to be a perfect match for ENTng, so I still don't know why I had so much trouble with that assay being unreliable for this sample."
   ]
  },
  {
   "attachments": {},
   "cell_type": "markdown",
   "id": "5aba2c03",
   "metadata": {},
   "source": [
    "## RefSeq Rhinovirus C-1\n",
    "\n",
    "Test against the full C-1 genome since earlier primers and probes weren't designed for Rhinovirus C."
   ]
  },
  {
   "cell_type": "code",
   "execution_count": 3,
   "id": "b81ca4c3",
   "metadata": {},
   "outputs": [
    {
     "name": "stdout",
     "output_type": "stream",
     "text": [
      "ENTng-f.1 len=19 match=100% [309:328]\n",
      "ENTng-p.4 len=18 match=100% [391:409]\n",
      "ENTng-r len=22 match=100% [401:423]\n",
      "ENTrc-f1 len=21 match=100% [27:48]\n",
      "ENTrc-r len=21 match=100% [400:421]\n",
      "HRVka5-f len=21 match=100% [27:48]\n",
      "HRVka5-ri len=18 match=100% [303:321]\n",
      "HRVka5-ro len=23 match=100% [400:423]\n",
      "HRVkaV-fi len=22 match=100% [401:423]\n",
      "HRVkaV-fo.1 len=20 match=100% [308:328]\n",
      "HRVkaV-r.102 len=23 match=100% [907:930]\n",
      "HRVma-f len=19 match=95% [265:284]\n",
      "target          265 TGGACAAGGTGTGAAGAGC 284\n",
      "                  0 ||||||.||||||||||||  19\n",
      "query             0 TGGACAGGGTGTGAAGAGC  19\n",
      "\n",
      "HRVma-p len=18 match=100% [303:321]\n",
      "HRVma-r len=20 match=90% [389:409]\n",
      "target          389 GGATGGAACCAACTACTTTG 409\n",
      "                  0 ||||||.|||.|||||||||  20\n",
      "query             0 GGATGGGACCGACTACTTTG  20\n",
      "\n"
     ]
    }
   ],
   "source": [
    "printSeqBinding(\"refseq/Rhinovirus-C1.gb\", \"gb\")"
   ]
  },
  {
   "attachments": {},
   "cell_type": "markdown",
   "id": "1e889fa6",
   "metadata": {},
   "source": [
    "The KRV ka primer sets match perfectly."
   ]
  },
  {
   "cell_type": "markdown",
   "id": "8da8e49a",
   "metadata": {},
   "source": []
  }
 ],
 "metadata": {
  "kernelspec": {
   "display_name": "base",
   "language": "python",
   "name": "python3"
  },
  "language_info": {
   "codemirror_mode": {
    "name": "ipython",
    "version": 3
   },
   "file_extension": ".py",
   "mimetype": "text/x-python",
   "name": "python",
   "nbconvert_exporter": "python",
   "pygments_lexer": "ipython3",
   "version": "3.9.12"
  },
  "vscode": {
   "interpreter": {
    "hash": "83fdf2a797299d19b713b057933c5e44ac262466f7b0cfa31a267ba8d4c23490"
   }
  }
 },
 "nbformat": 4,
 "nbformat_minor": 5
}
