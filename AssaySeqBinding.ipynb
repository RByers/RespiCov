{
 "cells": [
  {
   "cell_type": "markdown",
   "id": "ad1a96df-6110-4762-b66a-de7785796da9",
   "metadata": {},
   "source": [
    "# Assay Binding analysis\n",
    "Analyze how well my PCR primers and probes match the sequences I've found in my samples."
   ]
  },
  {
   "cell_type": "markdown",
   "id": "ffbdd3ac-2bd4-406b-a7eb-2fad51d7a4b9",
   "metadata": {},
   "source": [
    "## Initialization, configuration and utility functions"
   ]
  },
  {
   "cell_type": "code",
   "execution_count": 1,
   "id": "40d8036f-16ec-4d80-84b8-7cdf3a6c874a",
   "metadata": {},
   "outputs": [
    {
     "name": "stdout",
     "output_type": "stream",
     "text": [
      "Read 17 primers\n"
     ]
    }
   ],
   "source": [
    "from Bio.Seq import Seq\n",
    "from Bio import SeqIO\n",
    "from Bio import Align\n",
    "\n",
    "import RCUtils\n",
    "\n",
    "# For now this is just Enterovirus primers, but could expand it to other species\n",
    "primers = RCUtils.readPrimers(\"qPCRPrimers.fasta\")\n",
    "print(\"Read %i primers\" % (len(primers)))    "
   ]
  },
  {
   "cell_type": "markdown",
   "id": "33b84307-c19f-49e3-995b-963c052eaf1f",
   "metadata": {},
   "source": [
    "# S28 - Rhinovirus A-23"
   ]
  },
  {
   "cell_type": "code",
   "execution_count": 43,
   "id": "81b39a7f-aa40-4d85-a2f4-ace850331734",
   "metadata": {},
   "outputs": [
    {
     "name": "stdout",
     "output_type": "stream",
     "text": [
      "ENTng-f.1 len=19 match=100%\n",
      "ENTng-p.6 len=18 match=100%\n",
      "ENTrc-f1 len=21 match=100%\n",
      "ENTrc-r len=21 match=100%\n",
      "HRVma-f len=19 match=100%\n",
      "HRVma-p len=18 match=100%\n",
      "ENTng-r len=22 match=95%\n",
      "  Primer 1 off the end of the sequence\n",
      "target          371 CTACTTTGGGTGTCCGTGTTT 392\n",
      "                  0 |||||||||||||||||||||  21\n",
      "query             0 CTACTTTGGGTGTCCGTGTTT  21\n",
      "\n",
      "HRVma-r len=20 match=95%\n",
      "target          359 GGATGGGACCAACTACTTTG 379\n",
      "                  0 ||||||||||.|||||||||  20\n",
      "query             0 GGATGGGACCGACTACTTTG  20\n",
      "\n"
     ]
    }
   ],
   "source": [
    "def printSeqBinding(path):\n",
    "    global a\n",
    "    # TODO: Try to print a semi-global alignment. Can use global with end_gap_score=0\n",
    "    aligner = Align.PairwiseAligner(mode='local', match_score=1, mismatch_score=0, gap_score=-1)\n",
    "    record = SeqIO.read(path, \"fastq\")\n",
    "    hits = RCUtils.computePrimerHits(record, primers, allowOverlaps=True)\n",
    "    for hit in hits:\n",
    "        print (\"%s len=%d match=%d%%\" % (hit.primer.id, len(hit.primer.seq), 100*hit.mr))\n",
    "        if hit.mr < 1:\n",
    "            a = aligner.align(record.seq, hit.primer.seq, strand=\"-\" if hit.rev else \"+\")[0]\n",
    "            if a.coordinates[0][0] == 0 and a.coordinates[1][0] > 0:\n",
    "                print (\"  Primer %d off the start of the sequence\" % a.coordinates[1][0])\n",
    "            pt = len(hit.primer.seq) - a.coordinates[1][-1]\n",
    "            if a.coordinates[0][-1] == len(record.seq) and pt > 0:\n",
    "                print (\"  Primer %d off the end of the sequence\" % pt)\n",
    "            print(a)\n",
    "        \n",
    "printSeqBinding(\"myseqs/S28-RVA-23.fastq\")"
   ]
  },
  {
   "cell_type": "code",
   "execution_count": null,
   "id": "13caa15c-bb46-4185-a0bc-0d619606df49",
   "metadata": {},
   "outputs": [],
   "source": [
    "\n"
   ]
  }
 ],
 "metadata": {
  "kernelspec": {
   "display_name": "Python 3 (ipykernel)",
   "language": "python",
   "name": "python3"
  },
  "language_info": {
   "codemirror_mode": {
    "name": "ipython",
    "version": 3
   },
   "file_extension": ".py",
   "mimetype": "text/x-python",
   "name": "python",
   "nbconvert_exporter": "python",
   "pygments_lexer": "ipython3",
   "version": "3.9.12"
  }
 },
 "nbformat": 4,
 "nbformat_minor": 5
}
