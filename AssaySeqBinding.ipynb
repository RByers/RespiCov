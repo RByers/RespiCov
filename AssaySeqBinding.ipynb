{
 "cells": [
  {
   "cell_type": "markdown",
   "id": "ad1a96df-6110-4762-b66a-de7785796da9",
   "metadata": {},
   "source": [
    "# Assay Binding analysis\n",
    "Analyze how well my PCR primers and probes match the sequences I've found in my samples."
   ]
  },
  {
   "cell_type": "markdown",
   "id": "ffbdd3ac-2bd4-406b-a7eb-2fad51d7a4b9",
   "metadata": {},
   "source": [
    "## Initialization, configuration and utility functions"
   ]
  },
  {
   "cell_type": "code",
   "execution_count": 19,
   "id": "40d8036f-16ec-4d80-84b8-7cdf3a6c874a",
   "metadata": {},
   "outputs": [
    {
     "name": "stdout",
     "output_type": "stream",
     "text": [
      "Read 17 primers\n"
     ]
    }
   ],
   "source": [
    "from Bio.Seq import Seq\n",
    "from Bio import SeqIO\n",
    "from Bio import Align\n",
    "\n",
    "import RCUtils\n",
    "\n",
    "# For now this is just Enterovirus primers, but could expand it to other species\n",
    "primers = RCUtils.readPrimers(\"qPCRPrimers.fasta\")\n",
    "print(\"Read %i primers\" % (len(primers)))   \n",
    "\n",
    "aligner = Align.PairwiseAligner(mode='local', match_score=1, mismatch_score=0, gap_score=-1)\n",
    "\n",
    "def printSeqBinding(path):\n",
    "    # TODO: Try to print a semi-global alignment. Can use global with end_gap_score=0    \n",
    "    record = SeqIO.read(path, \"fastq\")\n",
    "    hits = RCUtils.computePrimerHits(record, primers, allowOverlaps=True)\n",
    "    for hit in hits:\n",
    "        print (\"%s len=%d match=%d%%\" % (hit.primer.id, len(hit.primer.seq), 100*hit.mr))\n",
    "        if hit.mr < 1:\n",
    "            a = aligner.align(record.seq, hit.primer.seq, strand=\"-\" if hit.rev else \"+\")[0]\n",
    "            if a.coordinates[1][0] > 0:\n",
    "                if a.coordinates[0][0] == 0:\n",
    "                    print (\"  Primer falls %d bases off the start of the sequence\" % a.coordinates[1][0])\n",
    "                else:\n",
    "                    print (\"  Primer mismatch in first %d bases\" % a.coordinates[1][0])\n",
    "            pt = len(hit.primer.seq) - a.coordinates[1][-1]\n",
    "            if pt > 0:\n",
    "                if a.coordinates[0][-1] == len(record):\n",
    "                    print (\"  Primer falls %d bases off the end of the sequence\" % pt)\n",
    "                else:\n",
    "                    print (\"  Primer mismatch in the last %d bases\" % pt)\n",
    "            print(a)"
   ]
  },
  {
   "attachments": {},
   "cell_type": "markdown",
   "id": "ff987238",
   "metadata": {},
   "source": [
    "## Summary\n"
   ]
  },
  {
   "cell_type": "code",
   "execution_count": 33,
   "id": "1985882d",
   "metadata": {},
   "outputs": [
    {
     "data": {
      "text/html": [
       "<div>\n",
       "<style scoped>\n",
       "    .dataframe tbody tr th:only-of-type {\n",
       "        vertical-align: middle;\n",
       "    }\n",
       "\n",
       "    .dataframe tbody tr th {\n",
       "        vertical-align: top;\n",
       "    }\n",
       "\n",
       "    .dataframe thead th {\n",
       "        text-align: right;\n",
       "    }\n",
       "</style>\n",
       "<table border=\"1\" class=\"dataframe\">\n",
       "  <thead>\n",
       "    <tr style=\"text-align: right;\">\n",
       "      <th></th>\n",
       "      <th>ENTng</th>\n",
       "      <th>ENTrc</th>\n",
       "      <th>HRVma</th>\n",
       "    </tr>\n",
       "  </thead>\n",
       "  <tbody>\n",
       "    <tr>\n",
       "      <th>S45-51-RC1</th>\n",
       "      <td>100</td>\n",
       "      <td>100</td>\n",
       "      <td>80</td>\n",
       "    </tr>\n",
       "    <tr>\n",
       "      <th>S44-RC1</th>\n",
       "      <td>100</td>\n",
       "      <td>95</td>\n",
       "      <td>85</td>\n",
       "    </tr>\n",
       "    <tr>\n",
       "      <th>S28-RC1</th>\n",
       "      <td>95</td>\n",
       "      <td>100</td>\n",
       "      <td>95</td>\n",
       "    </tr>\n",
       "  </tbody>\n",
       "</table>\n",
       "</div>"
      ],
      "text/plain": [
       "            ENTng  ENTrc  HRVma\n",
       "S45-51-RC1    100    100     80\n",
       "S44-RC1       100     95     85\n",
       "S28-RC1        95    100     95"
      ]
     },
     "execution_count": 33,
     "metadata": {},
     "output_type": "execute_result"
    }
   ],
   "source": [
    "import glob\n",
    "from collections import defaultdict\n",
    "import pandas as pd\n",
    "\n",
    "# Show a table of primer match scores for each sequence\n",
    "table = dict()\n",
    "for path in glob.glob(\"myseqs/*.fastq\"):\n",
    "    record = SeqIO.read(path, \"fastq\")\n",
    "    hits = RCUtils.computePrimerHits(record, primers, allowOverlaps=True)\n",
    "    scores = dict()\n",
    "    for hit in hits:\n",
    "        # Get the primer name without the suffix\n",
    "        pname = hit.primer.id.split(\"-\")[0]\n",
    "        if pname in scores:\n",
    "            scores[pname] *= hit.mr\n",
    "        else:\n",
    "            scores[pname] = hit.mr\n",
    "        \n",
    "    table[record.id] = scores\n",
    "\n",
    "df = pd.DataFrame.from_dict(table, orient='index')\n",
    "df *= 100\n",
    "df = df.round(0).astype(int)\n",
    "df"
   ]
  },
  {
   "attachments": {},
   "cell_type": "markdown",
   "id": "4851c1da",
   "metadata": {},
   "source": [
    "Overall we see HRVMa is a pretty poor match for everything except S28, which matches qPCR experimental results. ENTrc and ENTrc are generally both good."
   ]
  },
  {
   "cell_type": "markdown",
   "id": "33b84307-c19f-49e3-995b-963c052eaf1f",
   "metadata": {},
   "source": [
    "# S28 - Rhinovirus A-23"
   ]
  },
  {
   "cell_type": "code",
   "execution_count": 2,
   "id": "81b39a7f-aa40-4d85-a2f4-ace850331734",
   "metadata": {},
   "outputs": [
    {
     "name": "stdout",
     "output_type": "stream",
     "text": [
      "ENTng-f.1 len=19 match=100%\n",
      "ENTng-p.6 len=18 match=100%\n",
      "ENTrc-f1 len=21 match=100%\n",
      "ENTrc-r len=21 match=100%\n",
      "HRVma-f len=19 match=100%\n",
      "HRVma-p len=18 match=100%\n",
      "ENTng-r len=22 match=95%\n",
      "  Primer falls 1 bases off the end of the sequence\n",
      "target          371 CTACTTTGGGTGTCCGTGTTT 392\n",
      "                  0 |||||||||||||||||||||  21\n",
      "query             0 CTACTTTGGGTGTCCGTGTTT  21\n",
      "\n",
      "HRVma-r len=20 match=95%\n",
      "target          359 GGATGGGACCAACTACTTTG 379\n",
      "                  0 ||||||||||.|||||||||  20\n",
      "query             0 GGATGGGACCGACTACTTTG  20\n",
      "\n"
     ]
    }
   ],
   "source": [
    "printSeqBinding(\"myseqs/S28-RVA-23.fastq\")"
   ]
  },
  {
   "cell_type": "markdown",
   "id": "66dae935-f608-470f-9ee7-8f851ff05f71",
   "metadata": {},
   "source": [
    "## S44 - Rhinovirus A-56"
   ]
  },
  {
   "cell_type": "code",
   "execution_count": 3,
   "id": "13caa15c-bb46-4185-a0bc-0d619606df49",
   "metadata": {},
   "outputs": [
    {
     "name": "stdout",
     "output_type": "stream",
     "text": [
      "ENTng-f.1 len=19 match=100%\n",
      "ENTng-r len=22 match=100%\n",
      "ENTng-p.6 len=18 match=100%\n",
      "ENTrc-r len=21 match=100%\n",
      "HRVma-p len=18 match=100%\n",
      "ENTrc-f1 len=21 match=95%\n",
      "target           23 CAAGCACTTCTGTCTCCCCGG 44\n",
      "                  0 |||||||||||||.||||||| 21\n",
      "query             0 CAAGCACTTCTGTTTCCCCGG 21\n",
      "\n",
      "HRVma-r len=20 match=95%\n",
      "target          383 GGATGGGACCAACTACTTTG 403\n",
      "                  0 ||||||||||.|||||||||  20\n",
      "query             0 GGATGGGACCGACTACTTTG  20\n",
      "\n",
      "HRVma-f len=19 match=89%\n",
      "target          259 TTGACAAGGTGTGAAGAGC 278\n",
      "                  0 |.||||.||||||||||||  19\n",
      "query             0 TGGACAGGGTGTGAAGAGC  19\n",
      "\n"
     ]
    }
   ],
   "source": [
    "printSeqBinding(\"myseqs/S44-RVA-56.fastq\")"
   ]
  },
  {
   "cell_type": "markdown",
   "id": "6a981a63-ea0c-4da9-9534-c31673e27431",
   "metadata": {},
   "source": [
    "## S45-51 - Rhinovirus C-1"
   ]
  },
  {
   "cell_type": "code",
   "execution_count": 18,
   "id": "3c63e620-75c3-4344-8eed-8e14482d5f99",
   "metadata": {},
   "outputs": [
    {
     "name": "stdout",
     "output_type": "stream",
     "text": [
      "ENTng-f.1 len=19 match=100%\n",
      "ENTng-r len=22 match=100%\n",
      "ENTng-p.4 len=18 match=100%\n",
      "ENTrc-f1 len=21 match=100%\n",
      "ENTrc-r len=21 match=100%\n",
      "HRVma-p len=18 match=100%\n",
      "HRVma-r len=20 match=90%\n",
      "target          363 GGATGGAACCAACTACTTTG 383\n",
      "                  0 ||||||.|||.|||||||||  20\n",
      "query             0 GGATGGGACCGACTACTTTG  20\n",
      "\n",
      "HRVma-f len=19 match=89%\n",
      "  Primer mismatch in the last 1 bases\n",
      "target          239 TGGACAAGGTGTGAAGAG 257\n",
      "                  0 ||||||.|||||||||||  18\n",
      "query             0 TGGACAGGGTGTGAAGAG  18\n",
      "\n"
     ]
    }
   ],
   "source": [
    "printSeqBinding(\"myseqs/S45-51-RVC-1.fastq\")"
   ]
  }
 ],
 "metadata": {
  "kernelspec": {
   "display_name": "base",
   "language": "python",
   "name": "python3"
  },
  "language_info": {
   "codemirror_mode": {
    "name": "ipython",
    "version": 3
   },
   "file_extension": ".py",
   "mimetype": "text/x-python",
   "name": "python",
   "nbconvert_exporter": "python",
   "pygments_lexer": "ipython3",
   "version": "3.9.12"
  },
  "vscode": {
   "interpreter": {
    "hash": "83fdf2a797299d19b713b057933c5e44ac262466f7b0cfa31a267ba8d4c23490"
   }
  }
 },
 "nbformat": 4,
 "nbformat_minor": 5
}
