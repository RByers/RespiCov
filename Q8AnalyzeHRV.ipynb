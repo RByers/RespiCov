{
 "cells": [
  {
   "cell_type": "markdown",
   "metadata": {},
   "source": [
    "# Q8 Analyze HRV\n",
    "\n",
    "Dig into the Rhinovirus results in the Q8 sequencing run.\n",
    "\n",
    "In prior RespiCoV analyses I've relied on hits caching to enable fast analysis. But in Q8 I have a ton more data (28 Gb uncompressed, 22M reads) using a variety of different primers, as well as a lot of samples using only Rhinovirus primers. So rather than use hits caching, let's just split out the entire set of Rhinovirus hits and operate on that. \n",
    "\n",
    "This looks over all Q8a/b sequencing reads for the HRV 5' UTR region targetted by the RespiCoV Enterovirus primer pair. Most experiments actually used the HRVKa5 primer set, but they different from ENT rc only in the reverse primer extending 2 bases further beyond the amplicon, so we can just ignore that.\n",
    "\n",
    "Note that these samples also include a full-genome HRV sequence which we want to exclude.\n",
    "Reads were basecalled and demuxed with Dorado 0.7.3, using the hac@v5.0.0 model and with barcodes and adapters trimmed.\n",
    "Reads have not yet been filtered for quality, we do that here."
   ]
  },
  {
   "cell_type": "markdown",
   "metadata": {},
   "source": [
    "## Setup"
   ]
  },
  {
   "cell_type": "code",
   "execution_count": 25,
   "metadata": {},
   "outputs": [
    {
     "name": "stdout",
     "output_type": "stream",
     "text": [
      "The autoreload extension is already loaded. To reload it, use:\n",
      "  %reload_ext autoreload\n",
      "Rhinovirus primers: ['CAAGCACTTCTGTTTCCCCGG', 'AACACGGACACCCAAAGTAGT']\n"
     ]
    }
   ],
   "source": [
    "from Bio import Align\n",
    "import matplotlib_inline.backend_inline\n",
    "import os\n",
    "import pandas as pd\n",
    "import RCUtils\n",
    "import random\n",
    "import numpy as np\n",
    "\n",
    "%load_ext autoreload\n",
    "%autoreload 1\n",
    "%aimport RCUtils\n",
    "\n",
    "# Be deterministic\n",
    "random.seed(42)\n",
    "\n",
    "fastQDir = \"../Q8/reads-hac/\"\n",
    "\n",
    "pd.options.display.max_rows = 50\n",
    "pd.options.display.min_rows = 25\n",
    "\n",
    "# Get the Rhinovirus primer pair.\n",
    "rcPrimers = RCUtils.readPrimers(\"RespiCovPrimers.fasta\")\n",
    "hrvPrimers = [p for p in rcPrimers if p.description == \"Rhinovirus/Enterovirus 1\" or p.description == \"Rhinovirus/Enterovirus 3\"]\n",
    "print(\"Rhinovirus primers:\", [str(p.seq) for p in hrvPrimers])\n"
   ]
  },
  {
   "cell_type": "markdown",
   "metadata": {},
   "source": [
    "## Utilities"
   ]
  },
  {
   "cell_type": "code",
   "execution_count": 78,
   "metadata": {},
   "outputs": [],
   "source": [
    "import math\n",
    "\n",
    "# Get the hits across all files but allow a limit on the number of reads per file.\n",
    "# Many files have over a million reads.\n",
    "def getAllPrimerHits(maxReadsPerFile = 0, progress = False, skipReads = 0):\n",
    "    for file in sorted(filter(lambda f: f.endswith(\".fastq.gz\"), os.listdir(fastQDir))):\n",
    "        # Skip the 3rd sequencing run results because those samples were SC2 only\n",
    "        if file.startswith(\"Q8c-\"):\n",
    "            continue\n",
    "    \n",
    "        for (read, hit) in getPrimerHits(file, maxReadsPerFile, progress, skipReads):\n",
    "            yield (file, read, hit)\n",
    "\n",
    "# Get primer hits for a single file\n",
    "def getPrimerHits(file, maxReadsPerFile = 0, progress = False, skipReads = 0, matchThreshold = RCUtils.MATCH_THRESHOLD):\n",
    "    fastQPath = os.path.join(fastQDir, file)\n",
    "    if progress:\n",
    "        print(\"Processing \", os.path.basename(fastQPath), end=\"\")\n",
    "    reads = 0\n",
    "    hitReads = 0\n",
    "    for read in RCUtils.readFastQ(fastQPath):\n",
    "        reads += 1\n",
    "        if reads <= skipReads:\n",
    "            continue\n",
    "        hits = RCUtils.computePrimerHits(read, hrvPrimers, matchThreshold=matchThreshold)\n",
    "        if hits:\n",
    "            hitReads += 1\n",
    "            yield (read, hits)\n",
    "        if maxReadsPerFile and reads >= skipReads + maxReadsPerFile:\n",
    "            break\n",
    "    if progress:\n",
    "        totalReads = max(reads - skipReads, 0)\n",
    "        print(\" %d reads, %d with hits (%d%%)\" % (totalReads, hitReads, hitReads * 100 / totalReads if totalReads else 0))\n",
    "\n",
    "# Compute an overall probability of error as a phred score\n",
    "# This tends to higly penalize a single error, so may not be as useful as the mean phred score\n",
    "def overallPhredScore(phred_scores):\n",
    "    # Phred scores represent the probability of error, eg. with 10 being 1 in 10, 20 being 1 in 100, etc.\n",
    "    total_error_prob = 1 - math.prod(1 - 10 ** (-q / 10) for q in phred_scores)\n",
    "    if total_error_prob == 0:\n",
    "        return float('inf')\n",
    "    return -10 * math.log10(total_error_prob)\n",
    "\n",
    "# Print an alignment with an additional track indicating the quality scores of the read\n",
    "def printAlignmentWithQuality(alignment, read):\n",
    "    assert(alignment.target is read.seq)\n",
    "    quality_scores = read.letter_annotations[\"phred_quality\"]\n",
    "    \n",
    "    # Initialize strings for the aligned target, query, alignment string, and query quality scores\n",
    "    aligned_target = \"\"\n",
    "    aligned_query = \"\"\n",
    "    alignment_string = \"\"\n",
    "    aligned_target_quality = \"\"\n",
    "    \n",
    "    # Use indices to determine where gaps are and construct the alignment, target, query, and quality strings\n",
    "\n",
    "    for t_index, q_index in zip(*alignment.indices):\n",
    "        aligned_target += alignment.target[t_index] if t_index != -1 else \"-\"\n",
    "        aligned_query += alignment.query[q_index] if q_index != -1 else \"-\"\n",
    "        alignment_string += \"|\" if t_index != -1 and q_index != -1 and alignment.target[t_index] == alignment.query[q_index] else \".\"\n",
    "        if t_index == -1:\n",
    "            aligned_target_quality += \"-\"\n",
    "        else:\n",
    "            ns = quality_scores[t_index] // 4\n",
    "            aligned_target_quality += str(ns) if ns < 10 else \"9\"\n",
    "\n",
    "    tstart = alignment.indices[0,0]\n",
    "    tend = alignment.indices[0,-1]\n",
    "    print(\"target quality     \", aligned_target_quality, \"  avg:\", int(np.mean(quality_scores[tstart:tend])))\n",
    "    print(\"target             \", aligned_target)\n",
    "    print(\"                   \", alignment_string)\n",
    "    print(\"query              \", aligned_query)\n",
    "    print(\"\")\n"
   ]
  },
  {
   "cell_type": "markdown",
   "metadata": {},
   "source": [
    "## Get an idea for the distribution of reads with hits\n",
    "\n",
    "Barcodes 1 to 7 are our main HRV samples and as expected have the bulk of the hits.\n",
    "Barcodes 19-21 are RespiCoV and so are expected to have some HRV.\n",
    "Barcode 18 is the HRV-C1 full genome. Why don't we see hits here? Shouldn't I have to filter out these ~1200bp HRV hits?\n",
    "A few of the other hits occur in samples using other RespiCov primers but not HRV, why?"
   ]
  },
  {
   "cell_type": "code",
   "execution_count": 52,
   "metadata": {},
   "outputs": [
    {
     "name": "stdout",
     "output_type": "stream",
     "text": [
      "Processing  Q8a-hac_barcode01.fastq.gz 1000 reads, 946 with hits (94%)\n",
      "Processing  Q8a-hac_barcode02.fastq.gz 1000 reads, 888 with hits (88%)\n",
      "Processing  Q8a-hac_barcode03.fastq.gz 1000 reads, 947 with hits (94%)\n",
      "Processing  Q8a-hac_barcode04.fastq.gz 1000 reads, 875 with hits (87%)\n",
      "Processing  Q8a-hac_barcode05.fastq.gz 1000 reads, 918 with hits (91%)\n",
      "Processing  Q8a-hac_barcode06.fastq.gz 1000 reads, 916 with hits (91%)\n",
      "Processing  Q8a-hac_barcode07.fastq.gz 1000 reads, 970 with hits (97%)\n",
      "Processing  Q8a-hac_barcode11.fastq.gz 1000 reads, 9 with hits (0%)\n",
      "Processing  Q8a-hac_barcode12.fastq.gz 1000 reads, 383 with hits (38%)\n",
      "Processing  Q8a-hac_barcode13.fastq.gz 1000 reads, 5 with hits (0%)\n",
      "Processing  Q8a-hac_barcode14.fastq.gz 1000 reads, 121 with hits (12%)\n",
      "Processing  Q8a-hac_barcode15.fastq.gz 1000 reads, 1 with hits (0%)\n",
      "Processing  Q8a-hac_barcode16.fastq.gz 1000 reads, 69 with hits (6%)\n",
      "Processing  Q8a-hac_barcode17.fastq.gz 1000 reads, 9 with hits (0%)\n",
      "Processing  Q8a-hac_barcode18.fastq.gz 1000 reads, 6 with hits (0%)\n",
      "Processing  Q8a-hac_barcode19.fastq.gz 1000 reads, 4 with hits (0%)\n",
      "Processing  Q8a-hac_barcode20.fastq.gz 1000 reads, 100 with hits (10%)\n",
      "Processing  Q8a-hac_barcode21.fastq.gz 1000 reads, 75 with hits (7%)\n",
      "Processing  Q8a-hac_unclassified.fastq.gz 1000 reads, 12 with hits (1%)\n",
      "Processing  Q8b-hac_barcode01.fastq.gz 1000 reads, 917 with hits (91%)\n",
      "Processing  Q8b-hac_barcode02.fastq.gz 1000 reads, 936 with hits (93%)\n",
      "Processing  Q8b-hac_barcode03.fastq.gz 1000 reads, 958 with hits (95%)\n",
      "Processing  Q8b-hac_barcode04.fastq.gz 1000 reads, 926 with hits (92%)\n",
      "Processing  Q8b-hac_barcode05.fastq.gz 1000 reads, 934 with hits (93%)\n",
      "Processing  Q8b-hac_barcode06.fastq.gz 1000 reads, 952 with hits (95%)\n",
      "Processing  Q8b-hac_barcode07.fastq.gz 1000 reads, 965 with hits (96%)\n",
      "Processing  Q8b-hac_barcode11.fastq.gz 1000 reads, 17 with hits (1%)\n",
      "Processing  Q8b-hac_barcode12.fastq.gz 1000 reads, 391 with hits (39%)\n",
      "Processing  Q8b-hac_barcode13.fastq.gz 1000 reads, 6 with hits (0%)\n",
      "Processing  Q8b-hac_barcode14.fastq.gz 1000 reads, 154 with hits (15%)\n",
      "Processing  Q8b-hac_barcode15.fastq.gz 1000 reads, 3 with hits (0%)\n",
      "Processing  Q8b-hac_barcode16.fastq.gz 1000 reads, 100 with hits (10%)\n",
      "Processing  Q8b-hac_barcode17.fastq.gz 1000 reads, 10 with hits (1%)\n",
      "Processing  Q8b-hac_barcode18.fastq.gz 1000 reads, 9 with hits (0%)\n",
      "Processing  Q8b-hac_barcode19.fastq.gz 1000 reads, 6 with hits (0%)\n",
      "Processing  Q8b-hac_barcode20.fastq.gz 1000 reads, 102 with hits (10%)\n",
      "Processing  Q8b-hac_barcode21.fastq.gz 1000 reads, 63 with hits (6%)\n",
      "Processing  Q8b-hac_unclassified.fastq.gz 1000 reads, 61 with hits (6%)\n",
      "Total hits: 34471\n"
     ]
    }
   ],
   "source": [
    "hitCount = 0\n",
    "for (file, read, hits) in getAllPrimerHits(maxReadsPerFile=1000, progress=True):\n",
    "    hitCount += len(hits)\n",
    "\n",
    "print(\"Total hits:\", hitCount)"
   ]
  },
  {
   "cell_type": "markdown",
   "metadata": {},
   "source": [
    "## Look at the first few hits in detail just to sanity check\n",
    "\n",
    "These look good. Primer pair hits at the exact start and end of the trimmed read.\n",
    "Mismatches seem to be in areas of low basecall quality."
   ]
  },
  {
   "cell_type": "code",
   "execution_count": 47,
   "metadata": {},
   "outputs": [
    {
     "name": "stdout",
     "output_type": "stream",
     "text": [
      "bbe4b3b4-92cc-4ded-8674-52697668e304 387\n",
      "   0.95 0-22: Rhinovirus/Enterovirus 3 (21)\n",
      "target quality      7766666667777788882112   avg: 26\n",
      "target              AACACGGACACCCAAAGTCAGT\n",
      "                    ||||||||||||||||||.|||\n",
      "query               AACACGGACACCCAAAGT-AGT\n",
      "\n",
      "   0.90 368-387: Rhinovirus/Enterovirus 1 (21 rev)\n",
      "target quality      6656676777778866666--   avg: 27\n",
      "target              CCGGGGAAACAGAAGTGCT--\n",
      "                    |||||||||||||||||||..\n",
      "query               CCGGGGAAACAGAAGTGCTTG\n",
      "\n",
      "21b616e1-0b07-4359-bbe1-b46ea58bbffa 389\n",
      "   1.00 0-21: Rhinovirus/Enterovirus 3 (21)\n",
      "target quality      667444467888899998776   avg: 29\n",
      "target              AACACGGACACCCAAAGTAGT\n",
      "                    |||||||||||||||||||||\n",
      "query               AACACGGACACCCAAAGTAGT\n",
      "\n",
      "   1.00 367-388: Rhinovirus/Enterovirus 1 (21 rev)\n",
      "target quality      888778899988998555999   avg: 33\n",
      "target              CCGGGGAAACAGAAGTGCTTG\n",
      "                    |||||||||||||||||||||\n",
      "query               CCGGGGAAACAGAAGTGCTTG\n",
      "\n",
      "6a4010fc-051b-4b03-bed5-2936c168d7de 380\n",
      "   1.00 358-379: Rhinovirus/Enterovirus 3 (21 rev)\n",
      "target quality      667888897878888866556   avg: 29\n",
      "target              ACTACTTTGGGTGTCCGTGTT\n",
      "                    |||||||||||||||||||||\n",
      "query               ACTACTTTGGGTGTCCGTGTT\n",
      "\n",
      "ef3220fc-27f3-48aa-b12c-fcf548a046be 392\n",
      "   1.00 0-21: Rhinovirus/Enterovirus 3 (21)\n",
      "target quality      988887777888999999222   avg: 32\n",
      "target              AACACGGACACCCAAAGTAGT\n",
      "                    |||||||||||||||||||||\n",
      "query               AACACGGACACCCAAAGTAGT\n",
      "\n",
      "   0.95 369-391: Rhinovirus/Enterovirus 1 (21 rev)\n",
      "target quality      8988999988322322111222   avg: 21\n",
      "target              CCGGGGAAACAGAAGATGCTTG\n",
      "                    |||||||||||||||.||||||\n",
      "query               CCGGGGAAACAGAAG-TGCTTG\n",
      "\n"
     ]
    }
   ],
   "source": [
    "from Bio import Align\n",
    "\n",
    "for (read, hits) in getPrimerHits(\"Q8a-hac_barcode01.fastq.gz\", maxReadsPerFile=5):\n",
    "    print (\"%s %d\" % (read.id, len(read)))\n",
    "    for hit in hits:\n",
    "        print(\"   %.2f %i-%i: %s (%d%s)\" % (hit.mr, hit.start, hit.end, hit.primer.description, len(hit.primer), \" rev\" if hit.rev else \"\"))\n",
    "        aligner = Align.PairwiseAligner(mode='local', match_score=1, mismatch_score=0, gap_score=-1)\n",
    "        alignment = aligner.align(read.seq, hit.primer.rcSeq if hit.rev else hit.primer.seq)[0]\n",
    "        RCUtils.extendAlignment(alignment)\n",
    "        printAlignmentWithQuality(alignment, read)\n"
   ]
  },
  {
   "cell_type": "markdown",
   "metadata": {},
   "source": [
    "## Match score distributions\n",
    "\n",
    "We're using a default match threshold of 0.8. Make sure that still looks reasonable by comparing the distribution beyond that.\n",
    "This looks only at the start of one barcode group, it will vary later in the read sequence. This (along with the examples above) also confirms that we'd be throwing away a lot of good matches if we required an exact match."
   ]
  },
  {
   "cell_type": "code",
   "execution_count": 79,
   "metadata": {},
   "outputs": [
    {
     "name": "stdout",
     "output_type": "stream",
     "text": [
      "9358 of 19726 (47%) of primer hits are a perfect match\n"
     ]
    },
    {
     "data": {
      "image/png": "[encoded data removed]",
      "text/plain": [
       "<Figure size 800x300 with 1 Axes>"
      ]
     },
     "metadata": {},
     "output_type": "display_data"
    }
   ],
   "source": [
    "mrs = []\n",
    "perfect = 0\n",
    "for (read, hits) in getPrimerHits(\"Q8a-hac_barcode01.fastq.gz\", maxReadsPerFile=10000, matchThreshold = 0.65):\n",
    "    for hit in hits:\n",
    "        mrs.append(hit.mr)\n",
    "        if hit.mr == 1.0:\n",
    "            perfect += 1\n",
    "\n",
    "print(\"%d of %d (%d%%) of primer hits are a perfect match\" % (perfect, len(mrs), 100*perfect/len(mrs)))\n",
    "pd.DataFrame({'Score': mrs}).hist(figsize=(8,3), bins=8, grid=False);"
   ]
  },
  {
   "cell_type": "markdown",
   "metadata": {},
   "source": [
    "## Distribution of read lengths with hits.\n",
    "\n",
    "HRV amplicons are expected to be about 390 bp, and indeed the vast majority are."
   ]
  },
  {
   "cell_type": "code",
   "execution_count": 90,
   "metadata": {},
   "outputs": [
    {
     "name": "stdout",
     "output_type": "stream",
     "text": [
      "Reads: 9488, less than 450: 9403 (99%)\n"
     ]
    },
    {
     "data": {
      "image/png": "[encoded data removed]",
      "text/plain": [
       "<Figure size 800x300 with 1 Axes>"
      ]
     },
     "metadata": {},
     "output_type": "display_data"
    },
    {
     "data": {
      "image/png": "[encoded data removed]",
      "text/plain": [
       "<Figure size 800x300 with 1 Axes>"
      ]
     },
     "metadata": {},
     "output_type": "display_data"
    }
   ],
   "source": [
    "lens = []\n",
    "reads = 0\n",
    "lessThan450 = 0\n",
    "for (read, hits) in getPrimerHits(\"Q8a-hac_barcode01.fastq.gz\", maxReadsPerFile=10000):\n",
    "    reads += 1\n",
    "    if len(read) < 450:\n",
    "        lessThan450 += 1\n",
    "    lens.append(len(read))\n",
    "\n",
    "print(\"Reads: %d, less than 450: %d (%d%%)\" % (reads, lessThan450, 100*lessThan450/reads))\n",
    "\n",
    "pd.DataFrame({'Length': lens}).hist(figsize=(8,3), bins=30, grid=False, log=True)\n",
    "plt.show()\n",
    "\n",
    "pd.DataFrame({'Length': lens}).hist(figsize=(8,3), bins=30, grid=False, range=(0, 1000))\n",
    "plt.show()\n"
   ]
  },
  {
   "cell_type": "markdown",
   "metadata": {},
   "source": [
    "## Distribution of hit locations\n",
    "\n",
    "Perhaps we could make things a lot faster by looking only at the start and end of the read for hits? With dorado having done read splitting and adapter trimming for us, perhaps all legit primers will really be at the start and end of reads?"
   ]
  },
  {
   "cell_type": "code",
   "execution_count": 91,
   "metadata": {},
   "outputs": [
    {
     "name": "stdout",
     "output_type": "stream",
     "text": [
      "Hits: 16184, exact: 8777 (54%), within 10: 16066 (99%)\n"
     ]
    },
    {
     "data": {
      "image/png": "[encoded data removed]",
      "text/plain": [
       "<Figure size 800x300 with 1 Axes>"
      ]
     },
     "metadata": {},
     "output_type": "display_data"
    },
    {
     "data": {
      "image/png": "[encoded data removed]",
      "text/plain": [
       "<Figure size 800x300 with 1 Axes>"
      ]
     },
     "metadata": {},
     "output_type": "display_data"
    }
   ],
   "source": [
    "import matplotlib.pyplot as plt\n",
    "\n",
    "offsets = []\n",
    "hitCount = 0\n",
    "exactHit = 0\n",
    "within10 = 0\n",
    "\n",
    "for (read, hits) in getPrimerHits(\"Q8a-hac_barcode01.fastq.gz\", maxReadsPerFile=10000):\n",
    "    if len(read) > 450:\n",
    "        continue\n",
    "    for hit in hits:\n",
    "        hitCount += 1\n",
    "        so = hit.start\n",
    "        eo = len(read) - hit.end\n",
    "        if min(so, eo) == 0:\n",
    "            exactHit += 1\n",
    "        if min(so, eo) <= 10:\n",
    "            within10 += 1\n",
    "        if (so < eo):\n",
    "            offsets.append(so)\n",
    "        else:\n",
    "            offsets.append(-eo)\n",
    "\n",
    "print(\"Hits: %d, exact: %d (%d%%), within 10: %d (%d%%)\" % (hitCount, exactHit, 100*exactHit/hitCount, within10, 100*within10/hitCount))\n",
    "df = pd.DataFrame({'Primer read offset': offsets})\n",
    "ax = df.hist(figsize=(8,3), bins=30, grid=False, log=True)\n",
    "plt.show()\n",
    "\n",
    "ax = df.hist(figsize=(8,3), bins=30, grid=False, log=True, range=(-20,20))\n",
    "plt.show()"
   ]
  },
  {
   "cell_type": "code",
   "execution_count": null,
   "metadata": {},
   "outputs": [],
   "source": []
  }
 ],
 "metadata": {
  "language_info": {
   "name": "python"
  }
 },
 "nbformat": 4,
 "nbformat_minor": 2
}
