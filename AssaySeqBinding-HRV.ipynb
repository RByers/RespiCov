{
 "cells": [
  {
   "cell_type": "markdown",
   "id": "ad1a96df-6110-4762-b66a-de7785796da9",
   "metadata": {},
   "source": [
    "# Assay Binding analysis\n",
    "Analyze how well my PCR primers and probes match the sequences I've found in my samples."
   ]
  },
  {
   "cell_type": "markdown",
   "id": "ffbdd3ac-2bd4-406b-a7eb-2fad51d7a4b9",
   "metadata": {},
   "source": [
    "## Initialization, configuration and utility functions"
   ]
  },
  {
   "cell_type": "code",
   "execution_count": 1,
   "id": "d845b8fd",
   "metadata": {},
   "outputs": [],
   "source": [
    "%load_ext autoreload\n",
    "%autoreload 1\n",
    "%aimport RCUtils"
   ]
  },
  {
   "cell_type": "code",
   "execution_count": 10,
   "id": "40d8036f-16ec-4d80-84b8-7cdf3a6c874a",
   "metadata": {},
   "outputs": [
    {
     "name": "stdout",
     "output_type": "stream",
     "text": [
      "Reading primers: qPCRPrimers.fasta\n",
      "  ENTng-f (2 variations)\n",
      "  ENTng-r\n",
      "  ENTng-p (8 variations)\n",
      "  ENTrc-f1\n",
      "  ENTrc-f2\n",
      "  ENTrc-r\n",
      "  HRVma-f\n",
      "  HRVma-r\n",
      "  HRVma-p\n",
      "  HRVkaV-fo (2 variations)\n",
      "  HRVkaV-fi\n",
      "  HRVkaV-r (768 variations)\n",
      "  HRVka5-f\n",
      "  HRVka5-ro\n",
      "  HRVka5-ri\n",
      "Read 791 primers\n"
     ]
    }
   ],
   "source": [
    "from Bio.Seq import Seq\n",
    "from Bio import SeqIO\n",
    "from Bio import Align\n",
    "import RCUtils\n",
    "import glob\n",
    "from pathlib import Path\n",
    "from collections import defaultdict\n",
    "import pandas as pd\n",
    "\n",
    "# For now this is just Enterovirus primers, but could expand it to other species\n",
    "primers = RCUtils.readPrimers(\"qPCRPrimers.fasta\", display=True)\n",
    "\n",
    "aligner = RCUtils.getPrimerAligner()\n",
    "\n",
    "def printSeqBinding(path, format=\"fastq\", primers=primers):\n",
    "    # TODO: Try to print a semi-global alignment. Can use global with end_gap_score=0    \n",
    "    record = SeqIO.read(path, format)\n",
    "    hits = RCUtils.computePrimerHits(record, primers, allowOverlaps=True)\n",
    "    for hit in sorted(hits, key=lambda hit: hit.primer.id):\n",
    "        print (\"%s%s len=%d match=%d%% [%d:%d]\" % (hit.primer.id, \" (rev)\" if hit.rev else \"\", len(hit.primer.seq), 100*hit.mr, hit.start+1, hit.end))\n",
    "        if hit.mr < 1:\n",
    "            a = aligner.align(record.seq, hit.primer.rcSeq if hit.rev else hit.primer.seq)[0]\n",
    "            if a.coordinates[1][0] > 0:\n",
    "                if a.coordinates[0][0] == 0:\n",
    "                    print (\"  Primer falls %d bases off the start of the target\" % a.coordinates[1][0])\n",
    "                else:\n",
    "                    print (\"  Primer mismatch in first %d bases\" % a.coordinates[1][0])\n",
    "            pt = len(hit.primer.seq) - a.coordinates[1][-1]\n",
    "            if pt > 0:\n",
    "                if a.coordinates[0][-1] == len(record):\n",
    "                    print (\"  Primer falls %d bases off the end of the target\" % pt)\n",
    "                else:\n",
    "                    print (\"  Primer mismatch in the last %d bases\" % pt)\n",
    "            RCUtils.extendAlignment(a)\n",
    "            print(a)\n",
    "\n",
    "# Show a table of primer match scores for each sequence\n",
    "def summaryTable(pathGlob, format=\"fastq\", primers=primers):\n",
    "    table = dict()\n",
    "    for path in glob.glob(pathGlob):\n",
    "        record = SeqIO.read(path, format)\n",
    "        hits = RCUtils.computePrimerHits(record, primers, allowOverlaps=True)\n",
    "        scores = dict()\n",
    "        for hit in hits:\n",
    "            # Get the primer name without the suffix\n",
    "            pname = hit.primer.id.rsplit(\"-\",1)[0]\n",
    "            if pname in scores:\n",
    "                scores[pname] *= hit.mr\n",
    "            else:\n",
    "                scores[pname] = hit.mr\n",
    "        \n",
    "        # Get the base filename without the suffix\n",
    "        file = Path(path).stem\n",
    "        table[file] = scores\n",
    "\n",
    "    df = pd.DataFrame.from_dict(table, orient='index')\n",
    "    df.fillna(0, inplace=True)\n",
    "    df *= 100\n",
    "    df = df.round(0).astype(int)\n",
    "    return df"
   ]
  },
  {
   "attachments": {},
   "cell_type": "markdown",
   "id": "ff987238",
   "metadata": {},
   "source": [
    "## Summary\n"
   ]
  },
  {
   "cell_type": "code",
   "execution_count": 3,
   "id": "1985882d",
   "metadata": {},
   "outputs": [
    {
     "data": {
      "text/html": [
       "<div>\n",
       "<style scoped>\n",
       "    .dataframe tbody tr th:only-of-type {\n",
       "        vertical-align: middle;\n",
       "    }\n",
       "\n",
       "    .dataframe tbody tr th {\n",
       "        vertical-align: top;\n",
       "    }\n",
       "\n",
       "    .dataframe thead th {\n",
       "        text-align: right;\n",
       "    }\n",
       "</style>\n",
       "<table border=\"1\" class=\"dataframe\">\n",
       "  <thead>\n",
       "    <tr style=\"text-align: right;\">\n",
       "      <th></th>\n",
       "      <th>ENTrc</th>\n",
       "      <th>HRVka5</th>\n",
       "      <th>HRVma</th>\n",
       "      <th>HRVkaV</th>\n",
       "      <th>ENTng</th>\n",
       "    </tr>\n",
       "  </thead>\n",
       "  <tbody>\n",
       "    <tr>\n",
       "      <th>S44-RVA-56</th>\n",
       "      <td>95</td>\n",
       "      <td>95</td>\n",
       "      <td>85</td>\n",
       "      <td>100</td>\n",
       "      <td>100</td>\n",
       "    </tr>\n",
       "    <tr>\n",
       "      <th>S48-RVC-1</th>\n",
       "      <td>100</td>\n",
       "      <td>100</td>\n",
       "      <td>80</td>\n",
       "      <td>100</td>\n",
       "      <td>100</td>\n",
       "    </tr>\n",
       "    <tr>\n",
       "      <th>S28-RVA-23</th>\n",
       "      <td>100</td>\n",
       "      <td>96</td>\n",
       "      <td>95</td>\n",
       "      <td>95</td>\n",
       "      <td>95</td>\n",
       "    </tr>\n",
       "  </tbody>\n",
       "</table>\n",
       "</div>"
      ],
      "text/plain": [
       "            ENTrc  HRVka5  HRVma  HRVkaV  ENTng\n",
       "S44-RVA-56     95      95     85     100    100\n",
       "S48-RVC-1     100     100     80     100    100\n",
       "S28-RVA-23    100      96     95      95     95"
      ]
     },
     "metadata": {},
     "output_type": "display_data"
    },
    {
     "data": {
      "text/html": [
       "<div>\n",
       "<style scoped>\n",
       "    .dataframe tbody tr th:only-of-type {\n",
       "        vertical-align: middle;\n",
       "    }\n",
       "\n",
       "    .dataframe tbody tr th {\n",
       "        vertical-align: top;\n",
       "    }\n",
       "\n",
       "    .dataframe thead th {\n",
       "        text-align: right;\n",
       "    }\n",
       "</style>\n",
       "<table border=\"1\" class=\"dataframe\">\n",
       "  <thead>\n",
       "    <tr style=\"text-align: right;\">\n",
       "      <th></th>\n",
       "      <th>ENTrc</th>\n",
       "      <th>HRVka5</th>\n",
       "      <th>HRVma</th>\n",
       "      <th>HRVkaV</th>\n",
       "      <th>ENTng</th>\n",
       "    </tr>\n",
       "  </thead>\n",
       "  <tbody>\n",
       "    <tr>\n",
       "      <th>Rhinovirus-A89</th>\n",
       "      <td>100</td>\n",
       "      <td>100</td>\n",
       "      <td>85</td>\n",
       "      <td>100</td>\n",
       "      <td>100</td>\n",
       "    </tr>\n",
       "    <tr>\n",
       "      <th>Rhinovirus-C1</th>\n",
       "      <td>100</td>\n",
       "      <td>100</td>\n",
       "      <td>86</td>\n",
       "      <td>100</td>\n",
       "      <td>100</td>\n",
       "    </tr>\n",
       "    <tr>\n",
       "      <th>Rhinovirus-A56</th>\n",
       "      <td>95</td>\n",
       "      <td>95</td>\n",
       "      <td>80</td>\n",
       "      <td>100</td>\n",
       "      <td>100</td>\n",
       "    </tr>\n",
       "    <tr>\n",
       "      <th>Rhinovirus-A23</th>\n",
       "      <td>100</td>\n",
       "      <td>100</td>\n",
       "      <td>81</td>\n",
       "      <td>100</td>\n",
       "      <td>100</td>\n",
       "    </tr>\n",
       "    <tr>\n",
       "      <th>Rhinovirus-A77</th>\n",
       "      <td>100</td>\n",
       "      <td>100</td>\n",
       "      <td>85</td>\n",
       "      <td>83</td>\n",
       "      <td>100</td>\n",
       "    </tr>\n",
       "  </tbody>\n",
       "</table>\n",
       "</div>"
      ],
      "text/plain": [
       "                ENTrc  HRVka5  HRVma  HRVkaV  ENTng\n",
       "Rhinovirus-A89    100     100     85     100    100\n",
       "Rhinovirus-C1     100     100     86     100    100\n",
       "Rhinovirus-A56     95      95     80     100    100\n",
       "Rhinovirus-A23    100     100     81     100    100\n",
       "Rhinovirus-A77    100     100     85      83    100"
      ]
     },
     "execution_count": 3,
     "metadata": {},
     "output_type": "execute_result"
    }
   ],
   "source": [
    "display(summaryTable(\"myseqs/*.fastq\"))\n",
    "\n",
    "summaryTable(\"refseq/Rhinovirus-*.gb\", \"gb\")"
   ]
  },
  {
   "attachments": {},
   "cell_type": "markdown",
   "id": "4851c1da",
   "metadata": {},
   "source": [
    "Overall we see HRVMa is a pretty poor match for everything except S28, which matches qPCR experimental results. ENTng and ENTrc are generally both good."
   ]
  },
  {
   "cell_type": "markdown",
   "id": "33b84307-c19f-49e3-995b-963c052eaf1f",
   "metadata": {},
   "source": [
    "# S28 - Rhinovirus A-23"
   ]
  },
  {
   "cell_type": "code",
   "execution_count": 11,
   "id": "81b39a7f-aa40-4d85-a2f4-ace850331734",
   "metadata": {},
   "outputs": [
    {
     "name": "stdout",
     "output_type": "stream",
     "text": [
      "ENTng-f.1 len=19 match=100% [280:298]\n",
      "ENTng-p.6 len=18 match=100% [362:379]\n",
      "ENTng-r (rev) len=22 match=95% [372:392]\n",
      "  Primer falls 1 bases off the end of the target\n",
      "target          371 CTACTTTGGGTGTCCGTGTTT- 392\n",
      "                  0 |||||||||||||||||||||-  22\n",
      "query             0 CTACTTTGGGTGTCCGTGTTTC  22\n",
      "\n",
      "ENTrc-f1 len=21 match=100% [2:22]\n",
      "ENTrc-r (rev) len=21 match=100% [371:391]\n",
      "HRVka5-f len=21 match=100% [2:22]\n",
      "HRVka5-ri (rev) len=18 match=100% [274:291]\n",
      "HRVka5-ro (rev) len=23 match=96% [371:392]\n",
      "  Primer falls 1 bases off the end of the target\n",
      "target          370 ACTACTTTGGGTGTCCGTGTTT- 392\n",
      "                  0 ||||||||||||||||||||||-  23\n",
      "query             0 ACTACTTTGGGTGTCCGTGTTTC  23\n",
      "\n",
      "HRVkaV-fi len=22 match=95% [372:392]\n",
      "  Primer falls 1 bases off the end of the target\n",
      "target          371 CTACTTTGGGTGTCCGTGTTT- 392\n",
      "                  0 |||||||||||||||||||||-  22\n",
      "query             0 CTACTTTGGGTGTCCGTGTTTC  22\n",
      "\n",
      "HRVkaV-fo.1 len=20 match=100% [279:298]\n",
      "HRVma-f len=19 match=100% [236:254]\n",
      "HRVma-p len=18 match=100% [274:291]\n",
      "HRVma-r (rev) len=20 match=95% [360:379]\n",
      "target          359 GGATGGGACCAACTACTTTG 379\n",
      "                  0 ||||||||||.|||||||||  20\n",
      "query             0 GGATGGGACCGACTACTTTG  20\n",
      "\n"
     ]
    }
   ],
   "source": [
    "printSeqBinding(\"myseqs/S28-RVA-23.fastq\")"
   ]
  },
  {
   "cell_type": "markdown",
   "id": "66dae935-f608-470f-9ee7-8f851ff05f71",
   "metadata": {},
   "source": [
    "## S44 - Rhinovirus A-56"
   ]
  },
  {
   "cell_type": "code",
   "execution_count": 5,
   "id": "13caa15c-bb46-4185-a0bc-0d619606df49",
   "metadata": {},
   "outputs": [
    {
     "name": "stdout",
     "output_type": "stream",
     "text": [
      "ENTng-f.1 len=19 match=100% [304:322]\n",
      "ENTng-p.6 len=18 match=100% [386:403]\n",
      "ENTng-r (rev) len=22 match=100% [396:417]\n",
      "ENTrc-f1 len=21 match=95% [24:44]\n",
      "target           23 CAAGCACTTCTGTCTCCCCGG 44\n",
      "                  0 |||||||||||||.||||||| 21\n",
      "query             0 CAAGCACTTCTGTTTCCCCGG 21\n",
      "\n",
      "ENTrc-r (rev) len=21 match=100% [395:415]\n",
      "HRVka5-f len=21 match=95% [24:44]\n",
      "target           23 CAAGCACTTCTGTCTCCCCGG 44\n",
      "                  0 |||||||||||||.||||||| 21\n",
      "query             0 CAAGCACTTCTGTTTCCCCGG 21\n",
      "\n",
      "HRVka5-ri (rev) len=18 match=100% [298:315]\n",
      "HRVka5-ro (rev) len=23 match=100% [395:417]\n",
      "HRVkaV-fi len=22 match=100% [396:417]\n",
      "HRVkaV-fo.1 len=20 match=100% [303:322]\n",
      "HRVma-f len=19 match=89% [260:278]\n",
      "target          259 TTGACAAGGTGTGAAGAGC 278\n",
      "                  0 |.||||.||||||||||||  19\n",
      "query             0 TGGACAGGGTGTGAAGAGC  19\n",
      "\n",
      "HRVma-p len=18 match=100% [298:315]\n",
      "HRVma-r (rev) len=20 match=95% [384:403]\n",
      "target          383 GGATGGGACCAACTACTTTG 403\n",
      "                  0 ||||||||||.|||||||||  20\n",
      "query             0 GGATGGGACCGACTACTTTG  20\n",
      "\n"
     ]
    }
   ],
   "source": [
    "printSeqBinding(\"myseqs/S44-RVA-56.fastq\")"
   ]
  },
  {
   "attachments": {},
   "cell_type": "markdown",
   "id": "6a981a63-ea0c-4da9-9534-c31673e27431",
   "metadata": {},
   "source": [
    "## S48-RC-1 - Rhinovirus C-1"
   ]
  },
  {
   "cell_type": "code",
   "execution_count": 6,
   "id": "3c63e620-75c3-4344-8eed-8e14482d5f99",
   "metadata": {},
   "outputs": [
    {
     "name": "stdout",
     "output_type": "stream",
     "text": [
      "ENTng-f.1 len=19 match=100% [284:302]\n",
      "ENTng-p.4 len=18 match=100% [366:383]\n",
      "ENTng-r (rev) len=22 match=100% [376:397]\n",
      "ENTrc-f1 len=21 match=100% [2:22]\n",
      "ENTrc-r (rev) len=21 match=100% [375:395]\n",
      "HRVka5-f len=21 match=100% [2:22]\n",
      "HRVka5-ri (rev) len=18 match=100% [278:295]\n",
      "HRVka5-ro (rev) len=23 match=100% [375:397]\n",
      "HRVkaV-fi len=22 match=100% [376:397]\n",
      "HRVkaV-fo.1 len=20 match=100% [283:302]\n",
      "HRVma-f len=19 match=89% [240:257]\n",
      "  Primer mismatch in the last 1 bases\n",
      "target          239 TGGACAAGGTGTGAAGAGT 258\n",
      "                  0 ||||||.|||||||||||.  19\n",
      "query             0 TGGACAGGGTGTGAAGAGC  19\n",
      "\n",
      "HRVma-p len=18 match=100% [278:295]\n",
      "HRVma-r (rev) len=20 match=90% [364:383]\n",
      "target          363 GGATGGAACCAACTACTTTG 383\n",
      "                  0 ||||||.|||.|||||||||  20\n",
      "query             0 GGATGGGACCGACTACTTTG  20\n",
      "\n"
     ]
    }
   ],
   "source": [
    "printSeqBinding(\"myseqs/S48-RVC-1.fastq\")"
   ]
  },
  {
   "attachments": {},
   "cell_type": "markdown",
   "id": "9c46e05e",
   "metadata": {},
   "source": [
    "Here we see the critical final base of the HRVMA-f primer mismatches our S48 RVC-1 sequence, and there are three other mismatches. This explains why I couldn't get S48 to test positive via HRV qPCR. However, it does seem to be a perfect match for ENTng, so I still don't know why I had so much trouble with that assay being unreliable for this sample."
   ]
  },
  {
   "attachments": {},
   "cell_type": "markdown",
   "id": "5aba2c03",
   "metadata": {},
   "source": [
    "## RefSeq Rhinovirus C-1\n",
    "\n",
    "Test against the full C-1 genome since earlier primers and probes weren't designed for Rhinovirus C."
   ]
  },
  {
   "cell_type": "code",
   "execution_count": 7,
   "id": "b81ca4c3",
   "metadata": {},
   "outputs": [
    {
     "name": "stdout",
     "output_type": "stream",
     "text": [
      "ENTng-f.1 len=19 match=100% [310:328]\n",
      "ENTng-p.4 len=18 match=100% [392:409]\n",
      "ENTng-r (rev) len=22 match=100% [402:423]\n",
      "ENTrc-f1 len=21 match=100% [28:48]\n",
      "ENTrc-r (rev) len=21 match=100% [401:421]\n",
      "HRVka5-f len=21 match=100% [28:48]\n",
      "HRVka5-ri (rev) len=18 match=100% [304:321]\n",
      "HRVka5-ro (rev) len=23 match=100% [401:423]\n",
      "HRVkaV-fi len=22 match=100% [402:423]\n",
      "HRVkaV-fo.1 len=20 match=100% [309:328]\n",
      "HRVkaV-r.102 (rev) len=23 match=100% [908:930]\n",
      "HRVma-f len=19 match=95% [266:284]\n",
      "target          265 TGGACAAGGTGTGAAGAGC 284\n",
      "                  0 ||||||.||||||||||||  19\n",
      "query             0 TGGACAGGGTGTGAAGAGC  19\n",
      "\n",
      "HRVma-p len=18 match=100% [304:321]\n",
      "HRVma-r (rev) len=20 match=90% [390:409]\n",
      "target          389 GGATGGAACCAACTACTTTG 409\n",
      "                  0 ||||||.|||.|||||||||  20\n",
      "query             0 GGATGGGACCGACTACTTTG  20\n",
      "\n"
     ]
    }
   ],
   "source": [
    "printSeqBinding(\"refseq/Rhinovirus-C1.gb\", \"gb\")"
   ]
  },
  {
   "attachments": {},
   "cell_type": "markdown",
   "id": "1e889fa6",
   "metadata": {},
   "source": [
    "The KRV ka primer sets match perfectly."
   ]
  },
  {
   "cell_type": "markdown",
   "id": "af89317f",
   "metadata": {},
   "source": [
    "## RefSeq Rhinovirus A-89\n",
    "\n",
    "Test against the full A-89 genome since this is what's often used as the common coordinate system"
   ]
  },
  {
   "cell_type": "code",
   "execution_count": 8,
   "id": "6bac9a3d",
   "metadata": {},
   "outputs": [
    {
     "name": "stdout",
     "output_type": "stream",
     "text": [
      "ENTng-f.1 len=19 match=100% [448:466]\n",
      "ENTng-p.6 len=18 match=100% [530:547]\n",
      "ENTng-r (rev) len=22 match=100% [540:561]\n",
      "ENTrc-f1 len=21 match=100% [165:185]\n",
      "ENTrc-r (rev) len=21 match=100% [539:559]\n",
      "HRVka5-f len=21 match=100% [165:185]\n",
      "HRVka5-ri (rev) len=18 match=100% [442:459]\n",
      "HRVka5-ro (rev) len=23 match=100% [539:561]\n",
      "HRVkaV-fi len=22 match=100% [540:561]\n",
      "HRVkaV-fo.1 len=20 match=100% [447:466]\n",
      "HRVkaV-r.354 (rev) len=23 match=100% [1054:1076]\n",
      "HRVma-f len=19 match=89% [404:422]\n",
      "target          403 TTGACAAGGTGTGAAGAGC 422\n",
      "                  0 |.||||.||||||||||||  19\n",
      "query             0 TGGACAGGGTGTGAAGAGC  19\n",
      "\n",
      "HRVma-p len=18 match=100% [442:459]\n",
      "HRVma-r (rev) len=20 match=95% [528:547]\n",
      "target          527 GGATGGGACCAACTACTTTG 547\n",
      "                  0 ||||||||||.|||||||||  20\n",
      "query             0 GGATGGGACCGACTACTTTG  20\n",
      "\n"
     ]
    }
   ],
   "source": [
    "printSeqBinding(\"refseq/Rhinovirus-A89.gb\", \"gb\")"
   ]
  },
  {
   "cell_type": "markdown",
   "id": "fb916a3b",
   "metadata": {},
   "source": [
    "## Wisdom primers\n",
    "\n",
    "See how the primers from this older paper compare: https://www.ncbi.nlm.nih.gov/pmc/articles/PMC2786677/\n",
    "\n"
   ]
  },
  {
   "cell_type": "code",
   "execution_count": 9,
   "id": "b3f54b8a",
   "metadata": {},
   "outputs": [
    {
     "name": "stdout",
     "output_type": "stream",
     "text": [
      "Reading primers: HRV-Wisdom-primers.fasta\n",
      "  HRV-Wi-5UTR-fo (48 variations)\n",
      "  HRV-Wi-5UTR-ro\n",
      "  HRV-Wi-5UTR-f1i (16 variations)\n",
      "  HRV-Wi-5UTR-f2i (4 variations)\n",
      "  HRV-Wi-5UTR-f3i (4 variations)\n",
      "  HRV-Wi-5UTR-ri (2 variations)\n",
      "  HRV-Wi-VP4VP2-fo (2 variations)\n",
      "  HRV-Wi-VP4VP2-fi (2 variations)\n",
      "  HRV-Wi-VP4VP2-ri (192 variations)\n",
      "  HRV-Wi-VP4VP2-ro (768 variations)\n",
      "  HRV-Wi-VP1-fo (96 variations)\n",
      "  HRV-Wi-VP1-fi (64 variations)\n",
      "  HRV-Wi-VP1-ri (96 variations)\n",
      "  HRV-Wi-VP1-ro (48 variations)\n",
      "Read 1343 primers\n",
      "HRV-Wi-5UTR-f1i.7 len=21 match=100% [354:374]\n",
      "HRV-Wi-5UTR-fo.39 len=22 match=100% [164:185]\n",
      "HRV-Wi-5UTR-ri.0 (rev) len=21 match=100% [446:466]\n",
      "HRV-Wi-5UTR-ro (rev) len=23 match=100% [539:561]\n",
      "HRV-Wi-VP1-fi.56 len=19 match=89% [2441:2459]\n",
      "target         2440 TGGATGCTGCGGAAACCGG 2459\n",
      "                  0 ||||||||||.|||||.||   19\n",
      "query             0 TGGATGCTGCAGAAACAGG   19\n",
      "\n",
      "HRV-Wi-VP1-fo.75 len=23 match=100% [1966:1988]\n",
      "HRV-Wi-VP1-ri.94 (rev) len=26 match=96% [3319:3344]\n",
      "target         3318 GATCTAATCATATATCGAACAAACAC 3344\n",
      "                  0 ||||||||||||||.|||||||||||   26\n",
      "query             0 GATCTAATCATATACCGAACAAACAC   26\n",
      "\n",
      "HRV-Wi-VP1-ro.21 (rev) len=23 match=100% [3514:3536]\n",
      "HRV-Wi-VP4VP2-ri.46 (rev) len=23 match=100% [1054:1076]\n",
      "HRV-Wi-VP4VP2-ro.231 (rev) len=25 match=100% [1090:1114]\n"
     ]
    },
    {
     "data": {
      "text/html": [
       "<div>\n",
       "<style scoped>\n",
       "    .dataframe tbody tr th:only-of-type {\n",
       "        vertical-align: middle;\n",
       "    }\n",
       "\n",
       "    .dataframe tbody tr th {\n",
       "        vertical-align: top;\n",
       "    }\n",
       "\n",
       "    .dataframe thead th {\n",
       "        text-align: right;\n",
       "    }\n",
       "</style>\n",
       "<table border=\"1\" class=\"dataframe\">\n",
       "  <thead>\n",
       "    <tr style=\"text-align: right;\">\n",
       "      <th></th>\n",
       "      <th>HRV-Wi-5UTR</th>\n",
       "      <th>HRV-Wi-VP4VP2</th>\n",
       "      <th>HRV-Wi-VP1</th>\n",
       "    </tr>\n",
       "  </thead>\n",
       "  <tbody>\n",
       "    <tr>\n",
       "      <th>Rhinovirus-A89</th>\n",
       "      <td>100</td>\n",
       "      <td>100</td>\n",
       "      <td>85</td>\n",
       "    </tr>\n",
       "    <tr>\n",
       "      <th>Rhinovirus-C1</th>\n",
       "      <td>100</td>\n",
       "      <td>96</td>\n",
       "      <td>83</td>\n",
       "    </tr>\n",
       "    <tr>\n",
       "      <th>Rhinovirus-A56</th>\n",
       "      <td>100</td>\n",
       "      <td>77</td>\n",
       "      <td>100</td>\n",
       "    </tr>\n",
       "    <tr>\n",
       "      <th>Rhinovirus-A23</th>\n",
       "      <td>100</td>\n",
       "      <td>100</td>\n",
       "      <td>89</td>\n",
       "    </tr>\n",
       "    <tr>\n",
       "      <th>Rhinovirus-A77</th>\n",
       "      <td>95</td>\n",
       "      <td>100</td>\n",
       "      <td>96</td>\n",
       "    </tr>\n",
       "  </tbody>\n",
       "</table>\n",
       "</div>"
      ],
      "text/plain": [
       "                HRV-Wi-5UTR  HRV-Wi-VP4VP2  HRV-Wi-VP1\n",
       "Rhinovirus-A89          100            100          85\n",
       "Rhinovirus-C1           100             96          83\n",
       "Rhinovirus-A56          100             77         100\n",
       "Rhinovirus-A23          100            100          89\n",
       "Rhinovirus-A77           95            100          96"
      ]
     },
     "execution_count": 9,
     "metadata": {},
     "output_type": "execute_result"
    }
   ],
   "source": [
    "wisdomPrimers = RCUtils.readPrimers(\"HRV-Wisdom-primers.fasta\", display=True)\n",
    "printSeqBinding(\"refseq/Rhinovirus-A89.gb\", \"gb\", wisdomPrimers)\n",
    "\n",
    "summaryTable(\"refseq/Rhinovirus-*.gb\", \"gb\", wisdomPrimers)"
   ]
  },
  {
   "cell_type": "markdown",
   "id": "754322cf",
   "metadata": {},
   "source": [
    "Overall this isn't anything too special, no compelling reason to switch from HRV Ka."
   ]
  }
 ],
 "metadata": {
  "kernelspec": {
   "display_name": "base",
   "language": "python",
   "name": "python3"
  },
  "language_info": {
   "codemirror_mode": {
    "name": "ipython",
    "version": 3
   },
   "file_extension": ".py",
   "mimetype": "text/x-python",
   "name": "python",
   "nbconvert_exporter": "python",
   "pygments_lexer": "ipython3",
   "version": "3.9.16"
  },
  "vscode": {
   "interpreter": {
    "hash": "83fdf2a797299d19b713b057933c5e44ac262466f7b0cfa31a267ba8d4c23490"
   }
  }
 },
 "nbformat": 4,
 "nbformat_minor": 5
}
