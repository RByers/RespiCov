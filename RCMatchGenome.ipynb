{
 "cells": [
  {
   "attachments": {},
   "cell_type": "markdown",
   "metadata": {},
   "source": [
    "# RespiCoV sequencing analysis by reference genome\n",
    "\n",
    "Analyze fastq file(s) from nanopore sequencing and compare to a set of known reference genomes. Intended for use with the [RespiCoV](https://journals.plos.org/plosone/article?id=10.1371/journal.pone.0264855) sequencing protocol. Relevent reference genomes are found through prior analysis (eg. RCMatchPrimers and BLAST). Specific reference sources include:\n",
    " * Rhinoviruses: [Enterovirus species taxonomy](https://ictv.global/report/chapter/picornaviridae/picornaviridae/enterovirus)\n",
    " * SARS-CoV-2: [Pango lineages](https://cov-lineages.org/lineage_list.html)\n",
    "\n",
    "Run here on my first RespiCoV sequencing attempt where I knew (from gel) that I had a lot of mis-priming, and where my flow cell was nearly exhausted. \n",
    "\n",
    "**Goals:**\n",
    " * Identify best target species/type match(es) in each input sample.\n",
    " * Support both ligation and transposase (\"rapid\") chemistry, i.e. primer-independent.\n",
    " * Support multiple pooled samples per barcode for pool demultiplexing.\n",
    " * Run quickly on a single machine and scale linearly with the product of input and reference sequences.\n",
    "\n",
    "**TODO:**\n",
    " * Make this do something\n",
    " \n",
    "**Non-goals / future work elsewhere:**\n",
    " * Study PCR efficiency and mis-priming (see RCMatchPrimers).\n",
    " * Identify new species/types (relies on prior analysis to populate set of relevant reference genomes).\n"
   ]
  },
  {
   "cell_type": "markdown",
   "metadata": {},
   "source": []
  }
 ],
 "metadata": {
  "kernelspec": {
   "display_name": "base",
   "language": "python",
   "name": "python3"
  },
  "language_info": {
   "name": "python",
   "version": "3.9.12"
  },
  "orig_nbformat": 4,
  "vscode": {
   "interpreter": {
    "hash": "83fdf2a797299d19b713b057933c5e44ac262466f7b0cfa31a267ba8d4c23490"
   }
  }
 },
 "nbformat": 4,
 "nbformat_minor": 2
}
