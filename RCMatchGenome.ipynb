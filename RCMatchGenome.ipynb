{
 "cells": [
  {
   "attachments": {},
   "cell_type": "markdown",
   "metadata": {},
   "source": [
    "# RespiCoV sequencing analysis by reference genome\n",
    "\n",
    "Analyze fastq file(s) from nanopore sequencing and compare to a set of known reference genomes. Intended for use with the [RespiCoV](https://journals.plos.org/plosone/article?id=10.1371/journal.pone.0264855) sequencing protocol. Relevent reference genomes are found through prior analysis (eg. RCMatchPrimers and BLAST). Specific reference sources include:\n",
    " * Rhinoviruses: [Enterovirus species taxonomy](https://ictv.global/report/chapter/picornaviridae/picornaviridae/enterovirus)\n",
    " * SARS-CoV-2: [Pango lineages](https://cov-lineages.org/lineage_list.html)\n",
    "\n",
    "Run here on my first RespiCoV sequencing attempt where I knew (from gel) that I had a lot of mis-priming, and where my flow cell was nearly exhausted. \n",
    "\n",
    "**Goals:**\n",
    " * Identify best target species/type match(es) in each input sample.\n",
    " * Support both ligation and transposase (\"rapid\") chemistry, i.e. primer-independent.\n",
    " * Support multiple pooled samples per barcode for pool demultiplexing.\n",
    " * Run quickly on a single machine and scale linearly with the product of input and reference sequences.\n",
    "\n",
    "**TODO:**\n",
    " * Make this do something\n",
    " \n",
    "**Non-goals / future work elsewhere:**\n",
    " * Study PCR efficiency and mis-priming (see RCMatchPrimers).\n",
    " * Identify new species/types (relies on prior analysis to populate set of relevant reference genomes).\n"
   ]
  },
  {
   "cell_type": "markdown",
   "metadata": {},
   "source": [
    "## Initialization and configuration"
   ]
  },
  {
   "cell_type": "code",
   "execution_count": 1,
   "metadata": {},
   "outputs": [
    {
     "name": "stdout",
     "output_type": "stream",
     "text": [
      "Read 4 genomes\n"
     ]
    }
   ],
   "source": [
    "from Bio.Seq import Seq\n",
    "from Bio import SeqIO\n",
    "import matplotlib_inline.backend_inline\n",
    "import os\n",
    "import gzip\n",
    "import pandas as pd\n",
    "import RCUtils\n",
    "\n",
    "# Get high-dpi output for retina displays\n",
    "matplotlib_inline.backend_inline.set_matplotlib_formats('svg')\n",
    "\n",
    "fastQBaseDir = \"../20221204_2344_MN41817_FAV39017_1bf37150/fastq_pass/\"\n",
    "genomeDir = \"refseq\"\n",
    "\n",
    "# Read in all the reference genomes\n",
    "genomes = []\n",
    "for file in sorted(filter(lambda f: f.endswith(\".gb\"), os.listdir(genomeDir))):  \n",
    "    for genome in SeqIO.parse(os.path.join(genomeDir, file), \"gb\"):\n",
    "        # Use a more descriptive name\n",
    "        genome.name = file.removesuffix(\".gb\")\n",
    "        genomes.append(genome)\n",
    "print(\"Read %i genomes\" % (len(genomes)))\n"
   ]
  },
  {
   "cell_type": "code",
   "execution_count": 2,
   "metadata": {},
   "outputs": [
    {
     "data": {
      "text/plain": [
       "SeqRecord(seq=Seq('CCAAAGTAGTTGGTCCCGTCCCGCATGCAACTTAGAAGCTTTGCACAAAGACCA...TAG'), id='DQ473497.1', name='Rhinovirus-A23', description='Rhinovirus A23, complete genome', dbxrefs=[])"
      ]
     },
     "execution_count": 2,
     "metadata": {},
     "output_type": "execute_result"
    }
   ],
   "source": [
    "genomes[0]"
   ]
  },
  {
   "attachments": {},
   "cell_type": "markdown",
   "metadata": {},
   "source": [
    "## Read "
   ]
  },
  {
   "cell_type": "code",
   "execution_count": 3,
   "metadata": {},
   "outputs": [
    {
     "name": "stdout",
     "output_type": "stream",
     "text": [
      "Reading: ../20221204_2344_MN41817_FAV39017_1bf37150/fastq_pass/barcode07/FAV39017_pass_barcode07_1d0a44b7_0.fastq.gz\n",
      "read 6082e1b1-de83-41be-8e44-a5834f145c04 len=902\n",
      "  Rhinovirus-C1 [26,423]+ read [(67, 462)] score=335.0\n",
      "  Rhinovirus-A23 [84,483]+ read [(67, 467)] score=195.0\n",
      "  Rhinovirus-A56 [128,554]+ read [(34, 462)] score=193.0\n",
      "read 7f2f0cf8-a6e0-4f09-9517-63dc3d9559d9 len=800\n",
      "  Rhinovirus-A56 [554,159]- read [(383, 774)] score=315.0\n",
      "  Rhinovirus-A23 [478,84]- read [(383, 774)] score=263.0\n",
      "  Rhinovirus-C1 [423,26]- read [(383, 774)] score=195.0\n",
      "read 585e18bf-27e7-42f4-9115-eb94f21b7072 len=507\n",
      "  Rhinovirus-C1 [421,26]- read [(68, 456)] score=297.0\n",
      "  Rhinovirus-A23 [476,84]- read [(68, 456)] score=155.0\n",
      "  Rhinovirus-A56 [552,159]- read [(68, 456)] score=146.0\n",
      "read 10e40a60-5fc4-47cc-bc67-59f1e022a87b len=503\n",
      "  Rhinovirus-C1 [26,421]+ read [(65, 452)] score=302.0\n",
      "  Rhinovirus-A56 [144,552]+ read [(49, 452)] score=175.0\n",
      "  Rhinovirus-A23 [84,476]+ read [(65, 452)] score=172.0\n",
      "read e5deb8c3-9d9b-4894-b9f9-f828c832c701 len=741\n",
      "  Rhinovirus-C1 [26,421]+ read [(65, 468)] score=309.0\n",
      "  Rhinovirus-A23 [84,476]+ read [(65, 468)] score=181.0\n",
      "  Rhinovirus-A56 [142,552]+ read [(45, 468)] score=180.0\n",
      "read 4eef2a18-207e-4e6e-a9e2-21c662a3f35a len=497\n",
      "  Rhinovirus-C1 [421,30]- read [(64, 442)] score=315.0\n",
      "  Rhinovirus-A23 [476,88]- read [(64, 442)] score=175.0\n",
      "  Rhinovirus-A56 [552,163]- read [(64, 442)] score=164.0\n",
      "read 6a31ee31-d873-42b0-8f06-625432f6d68e len=527\n",
      "  Rhinovirus-C1 [26,421]+ read [(68, 469)] score=293.0\n",
      "  Rhinovirus-A23 [84,476]+ read [(68, 469)] score=154.0\n",
      "  Rhinovirus-A56 [159,552]+ read [(68, 469)] score=149.0\n",
      "read 235dc21c-6b69-46b0-94a4-022b89b8eb23 len=523\n",
      "  Rhinovirus-C1 [30,421]+ read [(72, 467)] score=292.0\n",
      "  Rhinovirus-A56 [163,552]+ read [(72, 467)] score=167.0\n",
      "  Rhinovirus-A23 [88,476]+ read [(72, 467)] score=164.0\n",
      "read 6129522a-5587-4009-ad7d-e76d677283ab len=508\n",
      "  Rhinovirus-C1 [420,26]- read [(64, 456)] score=302.0\n",
      "  Rhinovirus-A23 [475,84]- read [(64, 456)] score=166.0\n",
      "  Rhinovirus-A56 [551,128]- read [(64, 489)] score=162.0\n",
      "read a929b7e2-50d8-4f21-85e0-e321c3558967 len=722\n",
      "  Rhinovirus-C1 [34,422]+ read [(82, 450)] score=251.0\n",
      "  Rhinovirus-A56 [167,553]+ read [(82, 450)] score=136.0\n",
      "  Rhinovirus-A23 [92,477]+ read [(82, 450)] score=132.0\n",
      "read c63d9144-0d93-4620-ba79-2a7bf050e813 len=501\n",
      "  Rhinovirus-C1 [26,421]+ read [(66, 449)] score=272.0\n",
      "  Rhinovirus-A56 [141,552]+ read [(44, 449)] score=151.0\n",
      "  Rhinovirus-A23 [84,476]+ read [(66, 449)] score=148.0\n",
      "read 15677280-06e6-4a83-9680-c45d4f66f930 len=507\n",
      "  Rhinovirus-C1 [416,27]- read [(77, 455)] score=301.0\n",
      "  Rhinovirus-A23 [471,85]- read [(77, 455)] score=156.0\n",
      "  Rhinovirus-A56 [547,160]- read [(77, 455)] score=153.0\n",
      "read badc5f8b-de15-45b3-a68c-fe9ab1f43002 len=499\n",
      "  Rhinovirus-C1 [408,26]- read [(76, 446)] score=279.0\n",
      "  Rhinovirus-A56 [539,159]- read [(76, 446)] score=156.0\n",
      "  Rhinovirus-A23 [463,84]- read [(76, 446)] score=149.0\n",
      "read cd7f778b-e6d4-41ce-a548-148799aa5369 len=471\n",
      "  Rhinovirus-C1 [421,26]- read [(70, 466)] score=324.0\n",
      "  Rhinovirus-A23 [476,84]- read [(70, 466)] score=189.0\n",
      "  Rhinovirus-A56 [552,159]- read [(70, 466)] score=185.0\n",
      "read 7378f545-f42e-446b-a1c3-214b47c42bde len=514\n",
      "  Rhinovirus-C1 [421,26]- read [(69, 462)] score=329.0\n",
      "  Rhinovirus-A23 [476,84]- read [(69, 462)] score=189.0\n",
      "  Rhinovirus-A56 [552,128]- read [(69, 495)] score=183.0\n",
      "read 38d88bde-69c8-41e6-a94a-032e0079a23a len=510\n",
      "  Rhinovirus-C1 [26,421]+ read [(60, 458)] score=261.0\n",
      "  Rhinovirus-A56 [159,552]+ read [(60, 458)] score=155.0\n",
      "  Rhinovirus-A23 [84,476]+ read [(60, 458)] score=152.0\n",
      "read 6a8424d2-b2d7-4623-8250-c2db583a83fc len=513\n",
      "  Rhinovirus-C1 [26,421]+ read [(66, 456)] score=332.0\n",
      "  Rhinovirus-A23 [84,476]+ read [(66, 456)] score=188.0\n",
      "  Rhinovirus-A56 [142,552]+ read [(45, 456)] score=182.0\n"
     ]
    }
   ],
   "source": [
    "import RCUtils\n",
    "\n",
    "for read in RCUtils.getReads(fastQBaseDir, \"barcode07\"):\n",
    "    hits = RCUtils.seqMatch(read, genomes)\n",
    "    if hits:\n",
    "        print(f'read {read.id} len={len(read.seq)}')\n",
    "        for hit in hits:\n",
    "            print(f'  {hit.target.name} [{hit.targetStart},{hit.targetEnd}]{hit.strand} read [{hit.readStart},{hit.readEnd}] score={hit.score}')"
   ]
  },
  {
   "cell_type": "code",
   "execution_count": null,
   "metadata": {},
   "outputs": [],
   "source": []
  }
 ],
 "metadata": {
  "kernelspec": {
   "display_name": "base",
   "language": "python",
   "name": "python3"
  },
  "language_info": {
   "codemirror_mode": {
    "name": "ipython",
    "version": 3
   },
   "file_extension": ".py",
   "mimetype": "text/x-python",
   "name": "python",
   "nbconvert_exporter": "python",
   "pygments_lexer": "ipython3",
   "version": "3.9.12"
  },
  "orig_nbformat": 4,
  "vscode": {
   "interpreter": {
    "hash": "83fdf2a797299d19b713b057933c5e44ac262466f7b0cfa31a267ba8d4c23490"
   }
  }
 },
 "nbformat": 4,
 "nbformat_minor": 2
}
