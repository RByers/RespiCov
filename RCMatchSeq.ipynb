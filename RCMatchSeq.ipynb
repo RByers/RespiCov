{
 "cells": [
  {
   "attachments": {},
   "cell_type": "markdown",
   "metadata": {},
   "source": [
    "# RespiCoV sequencing analysis by known sequence\n",
    "\n",
    "Analyze fastq file(s) from nanopore sequencing output using known sequences to match against.\n",
    "\n",
    "Run here on my first two RespiCoV sequencing attempts where I knew (from gel) that I had a lot of mis-priming and low read counts. Both attempts used 50-54 different samples divided into 8 different barcoded pools. The RC2 run\n",
    "\n",
    "**Goals:**\n",
    " * Precisely identify target matches per input sample given known sequences\n",
    " * Run relatively quickly on a single machine and scale linearly with input sequence\n",
    " * Enable iterative exploration of the data (cache the most expensive operations)\n",
    " * Support multiple targets per sample (pooled samples)\n",
    " * Work with either ligration or tagmentation chemistry\n",
    " * Don't rely on precise primer-pair identification\n",
    "\n",
    "**TODO:**\n",
    " * Look into unexpected matches - just barcode failure or possibly a different virus all together?\n",
    " \n",
    "**Non-goals / future work elsewhere:**\n",
    " * Analyze mis-priming or PCR efficiency (see RCMatchPrimers).\n",
    " * Support more matching read than can fit into RAM at once"
   ]
  },
  {
   "attachments": {},
   "cell_type": "markdown",
   "metadata": {},
   "source": [
    "## Initialization and configuration"
   ]
  },
  {
   "cell_type": "code",
   "execution_count": 1,
   "metadata": {},
   "outputs": [
    {
     "name": "stdout",
     "output_type": "stream",
     "text": [
      "Read 3 sequences\n"
     ]
    }
   ],
   "source": [
    "import random\n",
    "from Bio.Seq import Seq\n",
    "from Bio import SeqIO\n",
    "import matplotlib_inline.backend_inline\n",
    "import os\n",
    "import pandas as pd\n",
    "import RCUtils\n",
    "\n",
    "%load_ext autoreload\n",
    "%autoreload 1\n",
    "%aimport RCUtils\n",
    "\n",
    "# Get high-dpi output for retina displays\n",
    "matplotlib_inline.backend_inline.set_matplotlib_formats('svg')\n",
    "\n",
    "fastQBaseDirs = {\n",
    "    \"RC1\": \"../RespiCov-1/20221204_2344_MN41817_FAV39017_1bf37150/fastq_pass/\",\n",
    "    \"RC2\": \"../RespiCov-2/20230430_1642_MN41817_APC888_8b249272/fastq_pass/\"}\n",
    "\n",
    "seqDir = \"myseqs\"\n",
    "\n",
    "pd.options.display.max_rows = 50\n",
    "pd.options.display.min_rows = 25\n",
    "\n",
    "# Read in all the reference sequences\n",
    "seqs = []\n",
    "for file in sorted(filter(lambda f: f.endswith(\".fastq\"), os.listdir(seqDir))):  \n",
    "    for seq in SeqIO.parse(os.path.join(seqDir, file), \"fastq\"):\n",
    "        seqs.append(seq)\n",
    "print(\"Read %i sequences\" % (len(seqs)))\n"
   ]
  },
  {
   "attachments": {},
   "cell_type": "markdown",
   "metadata": {},
   "source": [
    "## Process all the reads"
   ]
  },
  {
   "cell_type": "code",
   "execution_count": 2,
   "metadata": {},
   "outputs": [
    {
     "name": "stdout",
     "output_type": "stream",
     "text": [
      "Processing RC1-barcode01:   0 / 647 reads, 2.07s\n",
      "Processing RC1-barcode02:   1 / 692 reads, 2.13s\n",
      "Processing RC1-barcode03:   16 / 436 reads, 1.67s\n",
      "Processing RC1-barcode04:   0 / 624 reads, 1.95s\n",
      "Processing RC1-barcode05:   0 / 682 reads, 2.14s\n",
      "Processing RC1-barcode06:   26 / 771 reads, 2.69s\n",
      "Processing RC1-barcode07:   17 / 809 reads, 2.71s\n",
      "Processing RC1-barcode08:   0 / 894 reads, 2.50s\n",
      "Processing RC2-barcode01:   0 / 502 reads, 2.20s\n",
      "Processing RC2-barcode02:   0 / 240 reads, 1.00s\n",
      "Processing RC2-barcode03:   0 / 369 reads, 1.53s\n",
      "Processing RC2-barcode04:   35 / 251 reads, 1.49s\n",
      "Processing RC2-barcode05:   0 / 179 reads, 0.73s\n",
      "Processing RC2-barcode06:   0 / 341 reads, 1.44s\n",
      "Processing RC2-barcode07:   4 / 408 reads, 1.73s\n",
      "Processing RC2-barcode08:   71 / 299 reads, 2.10s\n",
      "Processed 16 samples\n"
     ]
    }
   ],
   "source": [
    "import time\n",
    "\n",
    "def getSeqMatches():\n",
    "    for (sample, fastQDir) in RCUtils.getAllSampleDirs(fastQBaseDirs):\n",
    "        print(\"Processing \" + sample + \": \", end=\"\")\n",
    "        reads = 0\n",
    "        start = time.process_time()\n",
    "        matchingReads = []\n",
    "\n",
    "        for read in RCUtils.getReads(fastQDir):\n",
    "            reads += 1\n",
    "            matches = RCUtils.seqMatch(read, seqs)\n",
    "            if len(matches) > 0:\n",
    "                matchingReads.append((read, matches))\n",
    "\n",
    "        elapsed = time.process_time() - start\n",
    "        print(\"  %i / %i reads, %.2fs\" % (len(matchingReads), reads, elapsed))\n",
    "        yield (sample, matchingReads)\n",
    "\n",
    "# Store all the results in a list\n",
    "seqMatches = list(getSeqMatches())\n",
    "print(\"Processed %i samples\" % len(seqMatches))"
   ]
  },
  {
   "attachments": {},
   "cell_type": "markdown",
   "metadata": {},
   "source": [
    "## Dump the match details per target"
   ]
  },
  {
   "cell_type": "code",
   "execution_count": 4,
   "metadata": {},
   "outputs": [
    {
     "name": "stdout",
     "output_type": "stream",
     "text": [
      "RC1-barcode02\n",
      "  S28-RVA-23: 1 matches, avg mr=42%\n",
      "RC1-barcode03\n",
      "  S28-RVA-23: 16 matches, avg mr=81%\n",
      "RC1-barcode06\n",
      "  S44-RVA-56: 26 matches, avg mr=79%\n",
      "RC1-barcode07\n",
      "  S48-RVC-1: 16 matches, avg mr=79%\n",
      "  S44-RVA-56: 1 matches, avg mr=82%\n",
      "RC2-barcode04\n",
      "  S48-RVC-1: 34 matches, avg mr=85%\n",
      "  S28-RVA-23: 1 matches, avg mr=85%\n",
      "RC2-barcode07\n",
      "  S28-RVA-23: 4 matches, avg mr=79%\n",
      "RC2-barcode08\n",
      "  S44-RVA-56: 12 matches, avg mr=79%\n",
      "  S28-RVA-23: 59 matches, avg mr=83%\n"
     ]
    }
   ],
   "source": [
    "from collections import defaultdict\n",
    "import statistics\n",
    "\n",
    "seqMatchesPerTarget = {}\n",
    "for (sample, matchingReads) in seqMatches:\n",
    "    perTarget = defaultdict(list)\n",
    "    for (read, matches) in matchingReads:\n",
    "        mr = matches[0].score / len(matches[0].target)\n",
    "        mrdiff = mr\n",
    "        if (len(matches) > 1):\n",
    "            mrdiff = mr - (matches[1].score / len(matches[1].target))\n",
    "        matchLen = matches[0].targetEnd - matches[0].targetStart\n",
    "        perTarget[matches[0].target.id].append({\"mr\":mr, \"mrdiff\":mrdiff, \"len\": matchLen, \"read\":read, \"match\":matches[0]})\n",
    "    if (len(perTarget) > 0):\n",
    "        seqMatchesPerTarget[sample] = perTarget\n",
    "\n",
    "for (sample, perTarget) in seqMatchesPerTarget.items():\n",
    "    print(sample)\n",
    "    for (target, matches) in perTarget.items():\n",
    "        mrs = list(map(lambda m: m[\"mr\"], matches))\n",
    "        print(\"  %s: %i matches, avg mr=%.0f%%\" % (target, len(matches), statistics.median(mrs) * 100))"
   ]
  },
  {
   "attachments": {},
   "cell_type": "markdown",
   "metadata": {},
   "source": [
    "## What's with the RC1-barcode02 result?\n",
    "Is it just a barcode failure, or might it actually be a different Rhinovirus?"
   ]
  },
  {
   "cell_type": "code",
   "execution_count": 11,
   "metadata": {},
   "outputs": [
    {
     "name": "stdout",
     "output_type": "stream",
     "text": [
      ">RC1-barcode02 S28-RVA-23 42%\n",
      "AACACGGACACCAAAGTAGTTGGTCCCATCCCGCAATTGCTCGTTACGACTAGAAACACTGGATTGTGCGCTCTAGCTGCAGGGTTAAGGTTAGCCACATTCGGGGGCCGGGAGGACTCAAAGCGACACACGGGGCTCTTCACACCCTATCCATTGTATGGCTTCACACCCAGAGGGT\n",
      ">RC1-barcode03 S28-RVA-23 91%\n",
      "AACACGGACACCCAAAGTAGTTGGTCCCATCCCGCAATTGCTCGTTACGACTAGAGAAACACACTGGATTGTGCGCTCTAGCTGCAGGGATTTGAGTTAGCCACATTCCAGGGGCCGGAGGACTCAAAGCGAGCACACGGGGCTCTTCACACCCTGTCCATTGTATGGCTTCACACCCAGAGGGTGTGCAGGCAGCCACGCAGGCTAGAACACTGTCGCCAGTGGGGAGTTTCTAGCCTCTGGCTCTGCCAGGTCTACCAGGGGGAATGGTGGAGCGACCAGCCAGACAACTTCCAGAGTACTACTAAGCTTTGCGTAGGCGCTTTGCGGATAACGATCGCAGCTGTTTTTGCCCTGGTGGGGCATATCAACTTTGACCGGGGAAACAGGAG\n"
     ]
    }
   ],
   "source": [
    "def printSpecificReadSeq(sample, target):\n",
    "    matchInfo = max(seqMatchesPerTarget[sample][target], key=lambda m: m[\"mr\"])\n",
    "    print(\">%s %s %.0f%%\" % (sample, target, matchInfo[\"mr\"] * 100))\n",
    "    print(matchInfo[\"read\"][matchInfo[\"match\"].readStart:matchInfo[\"match\"].readEnd].seq)\n",
    "\n",
    "printSpecificReadSeq(\"RC1-barcode02\", \"S28-RVA-23\")\n",
    "printSpecificReadSeq(\"RC1-barcode03\", \"S28-RVA-23\")"
   ]
  },
  {
   "attachments": {},
   "cell_type": "markdown",
   "metadata": {},
   "source": [
    "Doing a blast for these sequences we can see that it's indeed both RV-A23, but the first is truncated, only the last half."
   ]
  },
  {
   "cell_type": "code",
   "execution_count": null,
   "metadata": {},
   "outputs": [],
   "source": []
  }
 ],
 "metadata": {
  "kernelspec": {
   "display_name": "base",
   "language": "python",
   "name": "python3"
  },
  "language_info": {
   "codemirror_mode": {
    "name": "ipython",
    "version": 3
   },
   "file_extension": ".py",
   "mimetype": "text/x-python",
   "name": "python",
   "nbconvert_exporter": "python",
   "pygments_lexer": "ipython3",
   "version": "3.9.12"
  },
  "orig_nbformat": 4
 },
 "nbformat": 4,
 "nbformat_minor": 2
}
