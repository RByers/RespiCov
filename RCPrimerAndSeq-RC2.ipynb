{
 "cells": [
  {
   "attachments": {},
   "cell_type": "markdown",
   "metadata": {},
   "source": [
    "# RespiCoV sequencing analysis by primer and known sequence\n",
    "\n",
    "Analyze fastq file(s) from nanopore sequencing output using [RespiCoV](https://journals.plos.org/plosone/article?id=10.1371/journal.pone.0264855) primers and known sequences to match against. Designed for ligation sequencting chemistry.\n",
    "\n",
    "Run here on my second RespiCoV sequencing attempt where I knew (from gel) that I had a lot of mis-priming, and where my flow cell got clogged and wasn't able to generate a lot of reads.\n",
    "\n",
    "**Goals:**\n",
    " * Precisely identify target matches per input sample given known sequences\n",
    " * Run quickly on a single machine and scale linearly with input sequence\n",
    " * Enable iterative exploration of the data (cache the most expensive operations)\n",
    " * Support multiple targets per sample (pooled samples)\n",
    "\n",
    "**TODO:**\n",
    " \n",
    "**Non-goals / future work elsewhere:**\n",
    " * Use reads which only include one (or even zero) primers, eg. for tagmentation chemistry\n",
    " * Analyze mis-priming or PCR efficiency (see RCMatchPrimers)."
   ]
  },
  {
   "attachments": {},
   "cell_type": "markdown",
   "metadata": {},
   "source": [
    "## Initialization and configuration"
   ]
  },
  {
   "cell_type": "code",
   "execution_count": null,
   "metadata": {},
   "outputs": [],
   "source": [
    "from Bio.Seq import Seq\n",
    "from Bio import SeqIO\n",
    "import matplotlib_inline.backend_inline\n",
    "import os\n",
    "import pandas as pd\n",
    "import RCUtils\n",
    "\n",
    "# Get high-dpi output for retina displays\n",
    "matplotlib_inline.backend_inline.set_matplotlib_formats('svg')\n",
    "\n",
    "fastQBaseDir = \"../RespiCov-2/20230430_1642_MN41817_APC888_8b249272/fastq_pass/\"\n",
    "\n",
    "pd.options.display.max_rows = 50\n",
    "pd.options.display.min_rows = 25\n",
    "\n",
    "primers = RCUtils.readPrimers(\"RespiCovPrimers.fasta\")\n",
    "print(\"Read %i primers\" % (len(primers)))\n",
    "\n",
    "# Store primer indicies for efficient serialization\n",
    "for i, primer in enumerate(primers):\n",
    "    primer.index = i\n",
    "    primer.baseName = primer.description[:primer.description.rindex(' ')]"
   ]
  },
  {
   "cell_type": "markdown",
   "metadata": {},
   "source": []
  }
 ],
 "metadata": {
  "language_info": {
   "name": "python"
  },
  "orig_nbformat": 4
 },
 "nbformat": 4,
 "nbformat_minor": 2
}
