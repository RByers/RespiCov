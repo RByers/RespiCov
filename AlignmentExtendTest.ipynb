{
 "cells": [
  {
   "cell_type": "markdown",
   "metadata": {},
   "source": [
    "# Simple testing of the RCUtils.extendAlignment function"
   ]
  },
  {
   "cell_type": "code",
   "execution_count": 2,
   "metadata": {},
   "outputs": [],
   "source": [
    "from Bio import Align\n",
    "from Bio.Seq import Seq\n",
    "import RCUtils"
   ]
  },
  {
   "cell_type": "code",
   "execution_count": 11,
   "metadata": {},
   "outputs": [
    {
     "name": "stdout",
     "output_type": "stream",
     "text": [
      "target            3 GGGAAA 9\n",
      "                  0 |||||| 6\n",
      "query             0 GGGAAA 6\n",
      "\n",
      "[[3 9]\n",
      " [0 6]]\n"
     ]
    }
   ],
   "source": [
    "tgt = Seq(\"CCCGGGAAATTT\")\n",
    "aligner = RCUtils.getPrimerAligner()\n",
    "\n",
    "# Verify a basic alignment doesn't change\n",
    "alignment = aligner.align(tgt, \"GGGAAA\")[0]\n",
    "RCUtils.extendAlignment(alignment)\n",
    "print(alignment)\n",
    "print(alignment.coordinates)\n",
    "assert(alignment.coordinates[1][0] == 0 and alignment.coordinates[1][-1] == len(alignment.query))"
   ]
  },
  {
   "cell_type": "code",
   "execution_count": 10,
   "metadata": {},
   "outputs": [
    {
     "name": "stdout",
     "output_type": "stream",
     "text": [
      "target            4 GGGAAA 10\n",
      "                  0 ||||||  6\n",
      "query             1 GGGAAA  7\n",
      "\n",
      "target            3 CGGGAAAT 11\n",
      "                  0 .||||||.  8\n",
      "query             0 GGGGAAAA  8\n",
      "\n",
      "[[ 3 11]\n",
      " [ 0  8]]\n"
     ]
    }
   ],
   "source": [
    "# Verify extension as the front and back\n",
    "alignment = aligner.align(tgt, \"GGGGAAAA\")[0]\n",
    "print(alignment)\n",
    "assert(alignment.coordinates[1][0] == 1 and alignment.coordinates[1][-1] == len(alignment.query) -1)\n",
    "RCUtils.extendAlignment(alignment)\n",
    "print(alignment)\n",
    "print(alignment.coordinates)\n",
    "assert(alignment.coordinates[1][0] == 0 and alignment.coordinates[1][-1] == len(alignment.query))"
   ]
  },
  {
   "cell_type": "code",
   "execution_count": 13,
   "metadata": {},
   "outputs": [
    {
     "name": "stdout",
     "output_type": "stream",
     "text": [
      "target            0 CCCGGG 6\n",
      "                  0 |||||| 6\n",
      "query             1 CCCGGG 7\n",
      "\n",
      "target            0 -CCCGGG 6\n",
      "                  0 -|||||| 7\n",
      "query             0 CCCCGGG 7\n",
      "\n",
      "[[0 0 6]\n",
      " [0 1 7]]\n"
     ]
    }
   ],
   "source": [
    "# Verify adding a gap off the front\n",
    "alignment = aligner.align(tgt, \"CCCCGGG\")[0]\n",
    "print(alignment)\n",
    "assert(alignment.coordinates[1][0] == 1)\n",
    "RCUtils.extendAlignment(alignment)\n",
    "print(alignment)\n",
    "print(alignment.coordinates)\n",
    "assert(alignment.coordinates[1][0] == 0 and alignment.coordinates[1][-1] == len(alignment.query))"
   ]
  },
  {
   "cell_type": "code",
   "execution_count": 14,
   "metadata": {},
   "outputs": [
    {
     "name": "stdout",
     "output_type": "stream",
     "text": [
      "target            6 AAATTT 12\n",
      "                  0 ||||||  6\n",
      "query             0 AAATTT  6\n",
      "\n",
      "target            6 AAATTT- 12\n",
      "                  0 ||||||-  7\n",
      "query             0 AAATTTT  7\n",
      "\n",
      "[[ 6 12 12]\n",
      " [ 0  6  7]]\n"
     ]
    }
   ],
   "source": [
    "# Verify adding a gap off the end\n",
    "alignment = aligner.align(tgt, \"AAATTTT\")[0]\n",
    "print(alignment)\n",
    "assert(alignment.coordinates[1][-1] == len(alignment.query) - 1)\n",
    "RCUtils.extendAlignment(alignment)\n",
    "print(alignment)\n",
    "print(alignment.coordinates)\n",
    "assert(alignment.coordinates[1][0] == 0 and alignment.coordinates[1][-1] == len(alignment.query))"
   ]
  },
  {
   "cell_type": "code",
   "execution_count": 15,
   "metadata": {},
   "outputs": [
    {
     "name": "stdout",
     "output_type": "stream",
     "text": [
      "target            2 CGGGAAAT 10\n",
      "                  0 ||||||||  8\n",
      "query             3 CGGGAAAT 11\n",
      "\n",
      "target            0 -CCCGGGAAATTT- 12\n",
      "                  0 -..||||||||..- 14\n",
      "query             0 TTTCGGGAAATCCC 14\n",
      "\n",
      "[[ 0  0 12 12]\n",
      " [ 0  1 13 14]]\n"
     ]
    }
   ],
   "source": [
    "# All together now\n",
    "alignment = aligner.align(tgt, \"TTTCGGGAAATCCC\")[0]\n",
    "print(alignment)\n",
    "RCUtils.extendAlignment(alignment)\n",
    "print(alignment)\n",
    "print(alignment.coordinates)\n",
    "assert(alignment.coordinates[1][0] == 0 and alignment.coordinates[1][-1] == len(alignment.query))"
   ]
  }
 ],
 "metadata": {
  "kernelspec": {
   "display_name": "base",
   "language": "python",
   "name": "python3"
  },
  "language_info": {
   "codemirror_mode": {
    "name": "ipython",
    "version": 3
   },
   "file_extension": ".py",
   "mimetype": "text/x-python",
   "name": "python",
   "nbconvert_exporter": "python",
   "pygments_lexer": "ipython3",
   "version": "3.9.16"
  },
  "orig_nbformat": 4
 },
 "nbformat": 4,
 "nbformat_minor": 2
}
