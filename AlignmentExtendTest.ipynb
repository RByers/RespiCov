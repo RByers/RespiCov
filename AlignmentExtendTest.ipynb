{
 "cells": [
  {
   "cell_type": "code",
   "execution_count": 5,
   "metadata": {},
   "outputs": [],
   "source": [
    "from Bio import Align\n",
    "from Bio.Seq import Seq\n",
    "import RCUtils\n",
    "\n",
    "def extendAlignmentToSemiGlobal(alignment):\n",
    "    # Only works for forward alignments for now\n",
    "    assert alignment.coordinates[1][0] < alignment.coordinates[1][-1]\n",
    "\n",
    "    # Extend the alignment to cover as much of the query as possible\n",
    "    queryHead = min(alignment.coordinates[1][0], alignment.coordinates[0][0])\n",
    "    queryTail = min(\n",
    "        len(alignment.sequences[1]) - alignment.coordinates[1][-1],\n",
    "        len(alignment.sequences[0]) - alignment.coordinates[0][-1])\n",
    "    alignment.coordinates[0][0] -= queryHead\n",
    "    alignment.coordinates[1][0] -= queryHead\n",
    "    alignment.coordinates[0][-1] += queryTail\n",
    "    alignment.coordinates[1][-1] += queryTail\n",
    "\n",
    "    # Extend the alignment with gaps to ensure the entire query is covered,\n",
    "    # for the case where the query runs off the start/end of the target.\n",
    "    if(alignment.coordinates[1][0] > 0):\n",
    "        alignment.coordinates = np.c_[[0,0], alignment.coordinates]\n",
    "    if(alignment.coordinates[1][-1] < len(alignment.sequences[1])):\n",
    "        alignment.coordinates = np.c_[alignment.coordinates, [len(alignment.sequences[0]), len(alignment.sequences[1])]]\n",
    "\n"
   ]
  },
  {
   "cell_type": "code",
   "execution_count": 9,
   "metadata": {},
   "outputs": [
    {
     "name": "stdout",
     "output_type": "stream",
     "text": [
      "GGGGTTTT\n",
      "target            9 GGGGTTTT 17\n",
      "                  0 ||||||||  8\n",
      "query             0 GGGGTTTT  8\n",
      "\n",
      "[[ 9 17]\n",
      " [ 0  8]]\n"
     ]
    }
   ],
   "source": [
    "\n",
    "query = Seq(\"AAAACCCC\")\n",
    "qrc = query.reverse_complement()\n",
    "print(qrc)\n",
    "\n",
    "# Create an alignment\n",
    "aligner = Align.PairwiseAligner(mode='local', match_score=1, mismatch_score=0, gap_score=-1)\n",
    "alignment = aligner.align(\"GGGGCCCCCGGGGTTTTAAAATTTT\", qrc)[0]\n",
    "print(alignment)\n",
    "print(alignment.coordinates)\n",
    "\n"
   ]
  },
  {
   "cell_type": "code",
   "execution_count": null,
   "metadata": {},
   "outputs": [],
   "source": [
    "RCUtils.extendAlignmentToSemiGlobal(alignment)\n",
    "print(alignment)\n",
    "print(alignment.coordinates)"
   ]
  }
 ],
 "metadata": {
  "kernelspec": {
   "display_name": "base",
   "language": "python",
   "name": "python3"
  },
  "language_info": {
   "codemirror_mode": {
    "name": "ipython",
    "version": 3
   },
   "file_extension": ".py",
   "mimetype": "text/x-python",
   "name": "python",
   "nbconvert_exporter": "python",
   "pygments_lexer": "ipython3",
   "version": "3.9.16"
  },
  "orig_nbformat": 4
 },
 "nbformat": 4,
 "nbformat_minor": 2
}
