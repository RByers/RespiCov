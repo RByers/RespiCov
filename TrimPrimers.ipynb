{
 "cells": [
  {
   "cell_type": "markdown",
   "metadata": {},
   "source": [
    "# Trim Primers\n",
    "\n",
    "Given a single-sequence FASTQ file and primer ID, updates the file to contain only the sequence between the primers."
   ]
  },
  {
   "cell_type": "markdown",
   "metadata": {},
   "source": [
    "## Setup"
   ]
  },
  {
   "cell_type": "code",
   "execution_count": 1,
   "metadata": {},
   "outputs": [],
   "source": [
    "%load_ext autoreload\n",
    "%autoreload 1\n",
    "%aimport RCUtils"
   ]
  },
  {
   "cell_type": "code",
   "execution_count": 20,
   "metadata": {},
   "outputs": [
    {
     "name": "stdout",
     "output_type": "stream",
     "text": [
      "Reading primers: qPCRPrimers.fasta\n",
      "  ENTng-f (2 variations)\n",
      "  ENTng-r\n",
      "  ENTng-p (8 variations)\n",
      "  ENTrc-f1\n",
      "  ENTrc-f2\n",
      "  ENTrc-r\n",
      "  HRVma-f\n",
      "  HRVma-r\n",
      "  HRVma-p\n",
      "  HRVkaV-fo (2 variations)\n",
      "  HRVkaV-fi\n",
      "  HRVkaV-r (768 variations)\n",
      "  HRVka5-f\n",
      "  HRVka5-ro\n",
      "  HRVka5-ri\n",
      "Read 791 primers\n",
      "\n",
      "myseqs/S28-RVA-23.fastq, len=348\n",
      "  ERROR: didn't get 2 primer hits\n",
      "\n",
      "myseqs/S44-RVA-56.fastq, len=350\n",
      "  ERROR: didn't get 2 primer hits\n"
     ]
    }
   ],
   "source": [
    "from Bio import Align\n",
    "from Bio import SeqIO\n",
    "import matplotlib_inline.backend_inline\n",
    "import os\n",
    "import pandas as pd\n",
    "import RCUtils\n",
    "import random\n",
    "import glob\n",
    "\n",
    "qPCRprimers = RCUtils.readPrimers(\"qPCRPrimers.fasta\", display=True)\n",
    "\n",
    "def getPrimers(name):\n",
    "    return filter(lambda p: p.name.startswith(name), qPCRprimers)\n",
    "\n",
    "from pathlib import Path\n",
    "\n",
    "def trimAllPrimers(pathGlob,primers):\n",
    "    for path in glob.glob(pathGlob):\n",
    "        trimPrimers(path, primers)\n",
    "\n",
    "def trimPrimers(fastQPath, primers):\n",
    "    record = SeqIO.read(fastQPath, \"fastq\")\n",
    "    hits = RCUtils.computePrimerHits(record, primers)\n",
    "    print()\n",
    "    print(f\"{fastQPath}, len={len(record.seq)}\")\n",
    "    for hit in hits:\n",
    "        print(f\" {hit.primer.name} {hit.start}-{hit.end} ({hit.mr*100:.0f}%)\")\n",
    "    if len(hits) != 2:\n",
    "        print(\"  ERROR: didn't get 2 primer hits\")\n",
    "    elif hits[0].end > hits[1].start:\n",
    "        print(\"  ERROR: hits in wrong order\")\n",
    "    else:\n",
    "        start = hits[0].end\n",
    "        end = hits[1].start\n",
    "        trimmed = record[start:end]\n",
    "        print(f\" trimmed to {start}-{end} len={len(trimmed.seq)}\")\n",
    "        SeqIO.write(trimmed, fastQPath+\".trimmed\", \"fastq\")\n",
    "    \n",
    "\n",
    "trimPrimers(\"myseqs/S28-RVA-23.fastq\", getPrimers(\"ENTrc\"))\n",
    "trimPrimers(\"myseqs/S44-RVA-56.fastq\", getPrimers(\"ENTrc\"))"
   ]
  },
  {
   "cell_type": "code",
   "execution_count": null,
   "metadata": {},
   "outputs": [],
   "source": []
  }
 ],
 "metadata": {
  "kernelspec": {
   "display_name": "base",
   "language": "python",
   "name": "python3"
  },
  "language_info": {
   "codemirror_mode": {
    "name": "ipython",
    "version": 3
   },
   "file_extension": ".py",
   "mimetype": "text/x-python",
   "name": "python",
   "nbconvert_exporter": "python",
   "pygments_lexer": "ipython3",
   "version": "3.9.16"
  },
  "orig_nbformat": 4
 },
 "nbformat": 4,
 "nbformat_minor": 2
}
